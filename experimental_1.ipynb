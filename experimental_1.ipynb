{
 "cells": [
  {
   "cell_type": "code",
   "execution_count": 2,
   "metadata": {
    "colab": {
     "base_uri": "https://localhost:8080/",
     "height": 50
    },
    "executionInfo": {
     "elapsed": 4966,
     "status": "ok",
     "timestamp": 1601800899021,
     "user": {
      "displayName": "Mert Kurttutan (Student)",
      "photoUrl": "https://lh3.googleusercontent.com/a-/AOh14Gh_7Vfh5BJbW5If45rpVn4Qe37xSMQRIXNM-WEz=s64",
      "userId": "10419925026950499760"
     },
     "user_tz": -180
    },
    "id": "-jVQTiq8TvO1",
    "outputId": "4c0fa107-1e3d-4f38-8d93-395eb1899c6f"
   },
   "outputs": [],
   "source": [
    "#necessary python packages\n",
    "import pandas as pd\n",
    "import numpy as np\n",
    "import numpy.linalg as la\n",
    "from os.path import join\n",
    "from scipy import linalg\n",
    "import cmath as cm\n",
    "import matplotlib.pyplot as plt\n",
    "\n",
    "# Module for calculation of topological and band theory quantities\n",
    "import band\n",
    "\n",
    "import utils"
   ]
  },
  {
   "cell_type": "code",
   "execution_count": null,
   "metadata": {},
   "outputs": [],
   "source": []
  },
  {
   "cell_type": "markdown",
   "metadata": {
    "id": "ve5TfoYM-NWT"
   },
   "source": [
    "Before starting our calculation on models, let's formulate the berry phase in  computatitonally the most convenient way. It is done by the following Wilson loop,\n",
    "\n",
    "![df](https://drive.google.com/uc?export=view&id=14yYH81_82Sa1Dcr2UM4ciCKpEuYZWbDa)\n",
    "\n",
    "where the last state and the first state are the same by the periodicity of BZ. This formula is gauge invariant since every state on the loop appears as both bra and ket. Hence, any gauge transformation (including non-trivial ones) will not change the result. This gives a big advantage since we don't need to deal with issue of gauge-smoothening. There is another computatitonal issue. Since eigh function from numpy gives us order of ascending eigenvalues, taking the lowest band will ignore band inversion structure and not preserve the time-reversal subspace along the way. Hence, the value of Berry phase will not be correct. To resolve this, we will use a  procedure for preserving the TR subspace and eigenvectors. Note that we could have chosen another symmetry-produced subspace. However, since we will look at the TR topological insulators, this will be the symmetry we will consider. In the future when we include the inversion symmetyr, this splliting will be compatible since these symmetries commute and hence have common eigenvectors. We will follow the work of Vanderbilt et al with a modification to preserve TR subspace. Now, let's create function that will produce this unitary transformation for this procedure.\n",
    "\n",
    "Remark $I$: \n",
    "\n",
    "This will also deal with computational issues due to accidental degeneracies that occur between the Kramer pair. It does not resolve the degeneracy occuring at the fermi level since in this the system would not be insulator anyhow.\n",
    "\n",
    "Remark $II$: \n",
    "\n",
    "Note that the function below and this way of splitting into subspaces will be valid in 1d TR TI's since all type of lines are TR invariant. However in 2d and higher dimensions, there is no consistent and continuous way of splitting into TR subspaces. For this classfiication, we will use the work of Bernevig et al and develop a function based on it. This will be also used in classification of Chern Insulators since TR is broken and there is no problem splitting the Hilbert space.\n",
    "\n"
   ]
  },
  {
   "cell_type": "code",
   "execution_count": 3,
   "metadata": {
    "id": "g5iv7PqgY9Ld"
   },
   "outputs": [],
   "source": [
    "def uniTrans(old, H):\n",
    "  '''\n",
    "  old: set of eigenvectors as a matrix\n",
    "  H: Hamiltonian whose eigenvectors we will produce. This hamiltonian is very close to the point at which old is calculated\n",
    "  It returns eigenvectors which are contnuation of old at very close neighbor.\n",
    "  '''\n",
    "  eival,new=la.eigh(H)\n",
    "  n = H.shape[0]\n",
    "  if len(set(eival)) != len(eival):\n",
    "    L = 1j*np.zeros((n,n))\n",
    "    for k in range(n):\n",
    "      for j in range(n):\n",
    "        if eival[j] == eival[k]:                   #this condtion corresponds to the unitary transformation only in degenerate subspace isn, \n",
    "          L[k][j] = np.vdot(old[:,k], new[:,j])\n",
    "    U, s, Vh = linalg.svd(L)\n",
    "    G = np.dot(np.transpose(np.conjugate(Vh)), np.transpose(np.conjugate(U)))\n",
    "    new = np.dot(new, G)\n",
    "  temp = new.copy()\n",
    "  temp_eval = eival.copy()\n",
    "  for u in range(H.shape[0]):                          #this loop check if there is band inversion and rearranges the bands accordingly\n",
    "    for v in range(H.shape[0]):\n",
    "      if np.absolute(np.vdot(old[:,u], temp[:,v])) > 0.8:\n",
    "        new[:,u] = temp[:,v]\n",
    "        eival[u] = temp_eval[v]\n",
    "        break\n",
    "  return eival,new\n"
   ]
  },
  {
   "cell_type": "markdown",
   "metadata": {
    "id": "MZ6OYxQhqnIp"
   },
   "source": [
    "Now, let's create the Bloch Hamiltonian for the SSH model. Here the input k is crystal momentum in $D=1$ and will become vector in higher dimensions as we will see. We will use lattice constant $a=1$ for any square BZ."
   ]
  },
  {
   "cell_type": "code",
   "execution_count": 9,
   "metadata": {
    "id": "rMmRxS-pq8nI"
   },
   "outputs": [],
   "source": [
    "def SSH(k, var_vec):\n",
    "  #var_vec is a set of constants to be used in the Hamiltonain. This useful convention will be used for all the Hamiltonians.\n",
    "  t = var_vec[0]\n",
    "  dt = var_vec[1]\n",
    "  g = var_vec[2]\n",
    "  dg = var_vec[3]\n",
    "  \n",
    "  H_ssh = ((t + dt) + (t - dt)*np.cos(k))*band.Sx + (t-dt)*np.sin(k)*band.Sy\n",
    "\n",
    "  return  H_ssh"
   ]
  },
  {
   "cell_type": "markdown",
   "metadata": {
    "id": "-c9hnGLFulh0"
   },
   "source": [
    "Now, let's create a function for plotting energies of bands. This  function works for any dimension and Hamiltonian. "
   ]
  },
  {
   "cell_type": "code",
   "execution_count": 10,
   "metadata": {
    "colab": {
     "base_uri": "https://localhost:8080/",
     "height": 421
    },
    "executionInfo": {
     "elapsed": 45919,
     "status": "ok",
     "timestamp": 1598886894821,
     "user": {
      "displayName": "Mert Kurttutan (Student)",
      "photoUrl": "https://lh3.googleusercontent.com/a-/AOh14Gh_7Vfh5BJbW5If45rpVn4Qe37xSMQRIXNM-WEz=s64",
      "userId": "10419925026950499760"
     },
     "user_tz": -180
    },
    "id": "d3OQ9fVx-E2g",
    "outputId": "9fdbec1b-ff83-4385-c229-61e6d7964488"
   },
   "outputs": [
    {
     "data": {
      "text/plain": [
       "(-5.0, 5.0)"
      ]
     },
     "execution_count": 10,
     "metadata": {},
     "output_type": "execute_result"
    },
    {
     "data": {
      "image/png": "[encoded data removed]",
      "text/plain": [
       "<Figure size 864x432 with 1 Axes>"
      ]
     },
     "metadata": {
      "needs_background": "light"
     },
     "output_type": "display_data"
    }
   ],
   "source": [
    "def energyBand(klist, Hamil, var_vec):\n",
    "    \"\"\"\n",
    "    This function computes the energy band diagram of a given system.\n",
    "    \n",
    "    Note that this will be used for any Hamiltonian of any dimension with a proper set of variables and momentum tracjector klist.\n",
    "    The generality of this code will be very handy.\n",
    "    \n",
    "    klist is the path on momentum space along which we draw the energy-momentum plot.\n",
    "    Hamil is the bloch Hamiltonian.\n",
    "    var_vec is the set of constants in the bloch Hamiltonian and has to be given in a particular order.\n",
    "    \"\"\"\n",
    "\n",
    "    for i,k in enumerate(klist):\n",
    "      H = Hamil(k, var_vec)\n",
    "      if i ==0:\n",
    "        n = H.shape[0]\n",
    "        evals_mat = np.zeros((len(klist),n))\n",
    "        evecs_mat = np.empty((len(klist),n),dtype=object)\n",
    "        evals, ekets = la.eigh(H)\n",
    "      else:\n",
    "        evals, ekets = uniTrans(old, H)\n",
    "      for p in range(n):\n",
    "        evecs_mat[i][p] = ekets[:,p]\n",
    "        evals_mat[i][p] = evals[p]\n",
    "      old = ekets\n",
    "    return evals_mat,evecs_mat\n",
    "\n",
    "\n",
    "#1d ssh chain with parameter given below\n",
    "t = 1;\n",
    "g = -0.8;\n",
    "dt = -0.45;\n",
    "dg = 1.2;\n",
    "\n",
    "var_list = [t, dt, g, dg]\n",
    "\n",
    "eps = 0.003\n",
    "k = 1000\n",
    "num = 2*k + 1\n",
    "klist = np.linspace(-np.pi+eps,np.pi+eps,num)\n",
    "\n",
    "\n",
    "\n",
    "evals_mat,evecs_mat = energyBand(klist, SSH, var_list)\n",
    "\n",
    "fig, ax = plt.subplots(figsize=(12,6))\n",
    "\n",
    "colorList = ['b','c','r','g']\n",
    "\n",
    "for m in range(evecs_mat[0].shape[0]):\n",
    "    ax.plot(klist, (evals_mat[:,m]), colorList[m])\n",
    "\n",
    "ax.set_xlabel('Momentum k')\n",
    "ax.set_ylabel('Eigenenergies')\n",
    "ax.set_title('Energy Band Diagram of SSH');\n",
    "\n",
    "plt.xlim(-np.pi-1,np.pi+1)\n",
    "plt.ylim(-5,5)\n",
    "\n"
   ]
  },
  {
   "cell_type": "markdown",
   "metadata": {
    "id": "r1n6_e0VvVC-"
   },
   "source": [
    "Now, let's add the SO-coupling. Note that it is now TR invariant."
   ]
  },
  {
   "cell_type": "code",
   "execution_count": 13,
   "metadata": {
    "id": "5Bu5lWvyvTXO"
   },
   "outputs": [],
   "source": [
    "def SSH_so(k, var_vec):\n",
    "\n",
    "  t = var_vec[0]\n",
    "  dt = var_vec[1]\n",
    "  g = var_vec[2]\n",
    "  dg = var_vec[3]\n",
    "  H_ssh = ((t + dt) + (t - dt)*np.cos(k))*band.Sx + (t-dt)*np.sin(k)*band.Sy\n",
    "  eta = (g-dg + (g+dg)*np.cos(k))*1j*band.Sy + -1j*(g+dg)*np.sin(k)*band.Sx\n",
    "  H_soc = np.kron(1j*band.Sy, eta)\n",
    "  return H_soc + np.kron(band.S0, H_ssh)"
   ]
  },
  {
   "cell_type": "markdown",
   "metadata": {
    "id": "pOiXoS6SwYa8"
   },
   "source": [
    "The energy-momentum graph of the system will allow us to check the validity of unitary transformation function. If it is correctly implemented, then bands represented by different colors must appear according to time reversal symmetry."
   ]
  },
  {
   "cell_type": "code",
   "execution_count": 14,
   "metadata": {
    "colab": {
     "base_uri": "https://localhost:8080/",
     "height": 421
    },
    "executionInfo": {
     "elapsed": 47308,
     "status": "ok",
     "timestamp": 1598886896238,
     "user": {
      "displayName": "Mert Kurttutan (Student)",
      "photoUrl": "https://lh3.googleusercontent.com/a-/AOh14Gh_7Vfh5BJbW5If45rpVn4Qe37xSMQRIXNM-WEz=s64",
      "userId": "10419925026950499760"
     },
     "user_tz": -180
    },
    "id": "Q62AD4rfwX2p",
    "outputId": "525f9197-23dc-4949-8910-aeadb71b03ce"
   },
   "outputs": [
    {
     "data": {
      "text/plain": [
       "(-4.0, 4.0)"
      ]
     },
     "execution_count": 14,
     "metadata": {},
     "output_type": "execute_result"
    },
    {
     "data": {
      "image/png": "[encoded data removed]",
      "text/plain": [
       "<Figure size 864x432 with 1 Axes>"
      ]
     },
     "metadata": {
      "needs_background": "light"
     },
     "output_type": "display_data"
    }
   ],
   "source": [
    "t = 1;\n",
    "g = -0.8;\n",
    "dt = -0.45;\n",
    "dg = 1.2;\n",
    "\n",
    "var_list = [t, dt, g, dg]\n",
    "\n",
    "eps = 0.003\n",
    "k = 1000\n",
    "num = 2*k + 1\n",
    "klist = np.linspace(-np.pi+eps,np.pi+eps,num)\n",
    "\n",
    "\n",
    "\n",
    "evals_mat,evecs_mat = energyBand(klist, SSH_so, var_list)\n",
    "\n",
    "fig, ax = plt.subplots(figsize=(12,6))\n",
    "\n",
    "colorList = ['b','c','r','g']\n",
    "\n",
    "for m in range(evecs_mat[0].shape[0]):\n",
    "    ax.plot(klist, (evals_mat[:,m]), colorList[m])\n",
    "\n",
    "ax.set_xlabel('Momentum k')\n",
    "ax.set_ylabel('Eigenenergies')\n",
    "ax.set_title('Energy Band Diagram of SSH with SO-coupling');\n",
    "\n",
    "plt.xlim(-np.pi-1,np.pi+1)\n",
    "plt.ylim(-4,4)\n",
    "\n"
   ]
  },
  {
   "cell_type": "markdown",
   "metadata": {
    "id": "ovpC7Kt7_zVI"
   },
   "source": [
    "Below, you can see the code for Berry phase. This gives the correct result for any dimension as long as the loop is TR-invariant."
   ]
  },
  {
   "cell_type": "code",
   "execution_count": 15,
   "metadata": {
    "id": "pdVwXwjH1r1p"
   },
   "outputs": [],
   "source": [
    "def berry_phase_Tr_line(k_path, Hamil, var_vec, ns):\n",
    "    '''\n",
    "    Calculate the Berry phase of some bands of a Hamiltonian along a certain path.\n",
    "\n",
    "    Parameters\n",
    "    ----------\n",
    "    Hamil : function for bloch hamiltonian\n",
    "    k_path : The path along which to calculate the Berry phase.\n",
    "    ns : The sequences of bands whose Berry phases are wanted.\n",
    "\n",
    "    Returns\n",
    "    -------\n",
    "    1d ndarray\n",
    "        The wanted Berry phase of the selected bands in units of 2 pi.\n",
    "    '''\n",
    "    final = np.ones(len(ns))\n",
    "    for i,k in enumerate(k_path):\n",
    "      H = Hamil(k, var_vec)\n",
    "      if i ==0:\n",
    "        n = H.shape[0]\n",
    "        evals, ekets = la.eigh(H)\n",
    "        evs = ekets\n",
    "        result=np.ones(len(ns), dtype=complex)\n",
    "      else:\n",
    "        evals, ekets = uniTrans(old, H)\n",
    "        for j in ns:\n",
    "          result[j]*=np.vdot(old[:,j],ekets[:,j])\n",
    "      old=ekets\n",
    "    for j in ns:\n",
    "      result[j]*=np.vdot(old[:,j],evs[:,j])\n",
    "      final[j] = np.real(np.angle(result[j]))/(2*np.pi)                      #in units of 2 pi\n",
    "\n",
    "    return final"
   ]
  },
  {
   "cell_type": "markdown",
   "metadata": {
    "id": "pMnX85X8-FgP"
   },
   "source": [
    "Now, let's go into calculation of invariants in the classification of topological insulators. Let's start with the example of 1D SSH-chain on its own and coupled with SO coupling. "
   ]
  },
  {
   "cell_type": "code",
   "execution_count": 16,
   "metadata": {
    "colab": {
     "base_uri": "https://localhost:8080/",
     "height": 69
    },
    "executionInfo": {
     "elapsed": 52348,
     "status": "ok",
     "timestamp": 1598886901303,
     "user": {
      "displayName": "Mert Kurttutan (Student)",
      "photoUrl": "https://lh3.googleusercontent.com/a-/AOh14Gh_7Vfh5BJbW5If45rpVn4Qe37xSMQRIXNM-WEz=s64",
      "userId": "10419925026950499760"
     },
     "user_tz": -180
    },
    "id": "eUHKrcX51cWU",
    "outputId": "db8cdc89-06b2-48d5-928a-b6699801369d"
   },
   "outputs": [
    {
     "name": "stdout",
     "output_type": "stream",
     "text": [
      "[0.5 0.5]\n",
      "[ 0.5  0.5 -0.5 -0.5]\n",
      "[ 0.5  0.5  0.5 -0.5]\n"
     ]
    }
   ],
   "source": [
    "eps = 0.001\n",
    "k = 1000\n",
    "num = 2*k + 1\n",
    "\n",
    "klist1 = np.linspace(-np.pi+eps, np.pi+eps,num)[:-1]\n",
    "klist2 = np.linspace(-np.pi+eps, np.pi+eps,num*10)[:-1]\n",
    "\n",
    "\n",
    "t = 1;\n",
    "g = 0.8;\n",
    "dt = -6.0;\n",
    "dg = -1.0;\n",
    "\n",
    "var_list = [t, dt, g, dg]\n",
    "\n",
    "\n",
    "ns = [0,1,2,3]\n",
    "print(berry_phase_Tr_line(klist1, SSH, var_list, ns[:2]))\n",
    "print(berry_phase_Tr_line(klist1, SSH_so, var_list, ns))\n",
    "print(berry_phase_Tr_line(klist2, SSH_so, var_list, ns))"
   ]
  },
  {
   "cell_type": "code",
   "execution_count": 17,
   "metadata": {
    "colab": {
     "base_uri": "https://localhost:8080/",
     "height": 421
    },
    "executionInfo": {
     "elapsed": 52997,
     "status": "ok",
     "timestamp": 1598886901973,
     "user": {
      "displayName": "Mert Kurttutan (Student)",
      "photoUrl": "https://lh3.googleusercontent.com/a-/AOh14Gh_7Vfh5BJbW5If45rpVn4Qe37xSMQRIXNM-WEz=s64",
      "userId": "10419925026950499760"
     },
     "user_tz": -180
    },
    "id": "-zKWmsz57SWX",
    "outputId": "32d40710-1a2f-4cdf-dc93-0fe71d0231d4"
   },
   "outputs": [
    {
     "data": {
      "text/plain": [
       "(-1.0, 2.0)"
      ]
     },
     "execution_count": 17,
     "metadata": {},
     "output_type": "execute_result"
    },
    {
     "data": {
      "image/png": "[encoded data removed]",
      "text/plain": [
       "<Figure size 864x432 with 1 Axes>"
      ]
     },
     "metadata": {
      "needs_background": "light"
     },
     "output_type": "display_data"
    }
   ],
   "source": [
    "num=50\n",
    "dt_list = np.linspace(-3, 3,num)\n",
    "klist1 = np.linspace(-np.pi+eps, np.pi+eps,num)[:-1]\n",
    "berry_list = []\n",
    "for c in dt_list:\n",
    "  var_list[1] = c\n",
    "  berry_list.append(berry_phase_Tr_line(klist1,SSH_so, var_list, ns)[0])\n",
    "\n",
    "fig, ax = plt.subplots(figsize=(12,6))\n",
    "\n",
    "\n",
    "ax.scatter(dt_list, berry_list, s=3)\n",
    "\n",
    "ax.set_xlabel('dt values')\n",
    "ax.set_ylabel('Berry Phase')\n",
    "ax.set_title('Topological Phase Diagram of SSH with SO-Coupling');\n",
    "\n",
    "plt.xlim(-8, 8)\n",
    "plt.ylim(-1,2)\n"
   ]
  },
  {
   "cell_type": "markdown",
   "metadata": {
    "id": "W_thlkLO7S-A"
   },
   "source": [
    "One can play with the values to check if it is consistent with the notion of topological invariants, e.g. scaling all the constants or changing any of the parameters without band closing between the Kramer pairs. I have done all of these, it remained consistent. The $\\mathbb{Z}_2$ phase transition happens as $dt: 6 \\to -6$."
   ]
  },
  {
   "cell_type": "markdown",
   "metadata": {
    "id": "g7yRIumsDppz"
   },
   "source": [
    "Having studied on 1d systems, we can start looking at 2d systems, which include richer topologies. \n",
    "\n",
    "After doing this, we will implement the code for the Chern number using the Wilson lines on the brillouin zone."
   ]
  },
  {
   "cell_type": "markdown",
   "metadata": {
    "id": "06VA156gE2Kw"
   },
   "source": [
    "I think it's very fascinating that to go to the 2d systems the only change in our code is $k \\to (k_x, k_y)$. This is significantly because of the function for unitary Transformation function. Otherwise, we would need to change the way we deal with TR pair configuration depending on the path taken in 2d BZ. The first thing we will try is to reproduce the 2d system with Chern number $\\mathcal{C} = +2$ in the paper by KMO. It is Bloch Hamiltonian is given by,"
   ]
  },
  {
   "cell_type": "code",
   "execution_count": 19,
   "metadata": {
    "id": "0qns6K7KE1wV"
   },
   "outputs": [],
   "source": [
    "def HamKMO_1(k_vec, var_vec):\n",
    "\n",
    "    t = var_vec[0]\n",
    "    t2 = var_vec[1]\n",
    "    t3 = var_vec[2]\n",
    "    l = var_vec[3]\n",
    "    kx= k_vec[0]\n",
    "    ky = k_vec[1]\n",
    "\n",
    "    \n",
    "    H = ((-t*(1+np.cos(ky)+np.cos(2*kx))-t2*np.cos(kx))* band.Sx \n",
    "             + (-t*(-np.sin(ky)-np.sin(2*kx))-t2*np.sin(kx))* band.Sy \n",
    "             + (-t3*np.sin(2*kx)) * band.Sz )\n",
    "\n",
    "    return H"
   ]
  },
  {
   "cell_type": "code",
   "execution_count": 20,
   "metadata": {
    "colab": {
     "base_uri": "https://localhost:8080/",
     "height": 52
    },
    "executionInfo": {
     "elapsed": 52971,
     "status": "ok",
     "timestamp": 1598886901976,
     "user": {
      "displayName": "Mert Kurttutan (Student)",
      "photoUrl": "https://lh3.googleusercontent.com/a-/AOh14Gh_7Vfh5BJbW5If45rpVn4Qe37xSMQRIXNM-WEz=s64",
      "userId": "10419925026950499760"
     },
     "user_tz": -180
    },
    "id": "mKp4QHdrHhpz",
    "outputId": "e8dab83c-70dd-4db5-eb89-9fd795e8d435"
   },
   "outputs": [
    {
     "name": "stdout",
     "output_type": "stream",
     "text": [
      "[-4.29533506e-17 -9.92762871e-17]\n",
      "[ 1.03476700e-16 -6.01608723e-18]\n"
     ]
    }
   ],
   "source": [
    "#Let's try one Wilson loop for this model and see if it is quantized\n",
    "\n",
    "eps=0.0001\n",
    "num = 300\n",
    "\n",
    "t = 1\n",
    "t2 = t*(0.4)\n",
    "t3 = -t*(1.6)\n",
    "l = t*0.15\n",
    "\n",
    "var_list = [t, t2, t3, l]\n",
    "\n",
    "k_traj1 = np.zeros((num-1, 2))\n",
    "k_traj1[:,0] = np.linspace(-np.pi+eps, np.pi+eps,num)[:-1] \n",
    "k_traj1[:,1] = [0]*(num-1)\n",
    "\n",
    "k_traj2 = np.zeros((num-1, 2))\n",
    "k_traj2[:,0] = np.linspace(-np.pi+eps, np.pi+eps,num)[:-1] \n",
    "k_traj2[:,1] = [np.pi]*(num-1)\n",
    "\n",
    "\n",
    "\n",
    "ns = [0,1]\n",
    "\n",
    "print(berry_phase_Tr_line(k_traj1, HamKMO_1, var_list, ns))\n",
    "print(berry_phase_Tr_line(k_traj2, HamKMO_1, var_list, ns))\n"
   ]
  },
  {
   "cell_type": "markdown",
   "metadata": {
    "id": "M6QFYHTPVCRj"
   },
   "source": [
    "Looking at the changes as Wilson lines covers the 2d BZ, we can find the chern number of this system. see for example [[1]](https://arxiv.org/pdf/1508.02967.pdf)."
   ]
  },
  {
   "cell_type": "code",
   "execution_count": 21,
   "metadata": {
    "colab": {
     "base_uri": "https://localhost:8080/",
     "height": 284
    },
    "executionInfo": {
     "elapsed": 62715,
     "status": "ok",
     "timestamp": 1598886911734,
     "user": {
      "displayName": "Mert Kurttutan (Student)",
      "photoUrl": "https://lh3.googleusercontent.com/a-/AOh14Gh_7Vfh5BJbW5If45rpVn4Qe37xSMQRIXNM-WEz=s64",
      "userId": "10419925026950499760"
     },
     "user_tz": -180
    },
    "id": "A0O2jNbTHYtR",
    "outputId": "61f84cc9-b617-4d3e-ac4d-287e151ccc85"
   },
   "outputs": [
    {
     "data": {
      "image/png": "[encoded data removed]",
      "text/plain": [
       "<Figure size 432x288 with 1 Axes>"
      ]
     },
     "metadata": {
      "needs_background": "light"
     },
     "output_type": "display_data"
    }
   ],
   "source": [
    "eps = 0.0001\n",
    "num = 300\n",
    "\n",
    "klist = np.linspace(-np.pi, np.pi,num)\n",
    "ns = [0,1]\n",
    "var_list = [t, t2, t3, l]\n",
    "\n",
    "chern = []\n",
    "for ky in klist:\n",
    "  k_traj = np.zeros((num-1, 2))\n",
    "  k_traj[:,0] = np.linspace(-np.pi+eps, np.pi+eps,num)[:-1] \n",
    "  k_traj[:,1] = [ky]*(num-1)\n",
    "\n",
    "  a1, a2 = berry_phase_Tr_line(k_traj, HamKMO_1, var_list, ns)\n",
    "  chern.append([(a1),(a2)])\n",
    "\n",
    "\n",
    "chern = np.array(chern)\n",
    "\n",
    "fig = plt.figure()\n",
    "ax1 = fig.add_subplot(111)\n",
    "\n",
    "ax1.scatter(klist, chern[:,0], c='blue', s=0.3, label='first band')\n",
    "ax1.scatter(klist, chern[:,1], c='red', s=0.3, label='second band')\n",
    "ax1.set_xlabel('momentum $k_y$')\n",
    "ax1.set_ylabel('Wilson loop ')\n",
    "plt.legend(loc='upper left');\n",
    "plt.show()\n",
    "\n"
   ]
  },
  {
   "cell_type": "markdown",
   "metadata": {
    "id": "VefFtsi1SIm1"
   },
   "source": [
    "This is the same shape and result as in the paper, $$\\mathcal{C} = 2$$ since the winding of 1D berry phase is 2."
   ]
  },
  {
   "cell_type": "markdown",
   "metadata": {
    "id": "yO48OfwqU7f6"
   },
   "source": [
    "Let's continue to verify our implementation using other models. We can also consider Chern Insulator model by Qi, Wung, and Zhang. Its bloch Hamiltonian is given by"
   ]
  },
  {
   "cell_type": "code",
   "execution_count": 24,
   "metadata": {
    "id": "muHKUTdvXPBv"
   },
   "outputs": [],
   "source": [
    "def HamQWZ(k_vec, var_vec):\n",
    "\n",
    "    kx = k_vec[0]\n",
    "    ky = k_vec[1]\n",
    "    m = var_vec[0]\n",
    "    a = np.pi/2\n",
    "    H = np.sin(kx+a)* band.Sx  + np.sin(ky+a)*band.Sy + (m + np.cos(kx+a) + np.cos(ky+a) )*(m - np.cos(kx+a) - np.cos(ky+a))*band.Sz\n",
    "\n",
    "    return H"
   ]
  },
  {
   "cell_type": "code",
   "execution_count": 25,
   "metadata": {
    "colab": {
     "base_uri": "https://localhost:8080/",
     "height": 284
    },
    "executionInfo": {
     "elapsed": 74250,
     "status": "ok",
     "timestamp": 1598886923294,
     "user": {
      "displayName": "Mert Kurttutan (Student)",
      "photoUrl": "https://lh3.googleusercontent.com/a-/AOh14Gh_7Vfh5BJbW5If45rpVn4Qe37xSMQRIXNM-WEz=s64",
      "userId": "10419925026950499760"
     },
     "user_tz": -180
    },
    "id": "CaUghvllYLvZ",
    "outputId": "797a2820-c481-4acf-afbd-59717163ca53"
   },
   "outputs": [
    {
     "data": {
      "image/png": "[encoded data removed]",
      "text/plain": [
       "<Figure size 1080x288 with 3 Axes>"
      ]
     },
     "metadata": {
      "needs_background": "light"
     },
     "output_type": "display_data"
    }
   ],
   "source": [
    "eps = 0.0001\n",
    "num = 200\n",
    "\n",
    "m_list=[[-2.5], [-1.0], [2.3]]\n",
    "\n",
    "klist = np.linspace(-np.pi, np.pi,num)\n",
    "\n",
    "ns = [0,1]\n",
    "\n",
    "\n",
    "chern1 = []\n",
    "chern2 = []\n",
    "chern3 = []\n",
    "chern_list = [chern1, chern2, chern3]\n",
    "\n",
    "\n",
    "\n",
    "\n",
    "for r in range(3):\n",
    "  for ky in klist:\n",
    "    k_traj = np.zeros((num-1, 2))\n",
    "    k_traj[:,1] = np.linspace(-np.pi+eps, np.pi+eps,num)[:-1] \n",
    "    k_traj[:,0] = [ky]*(num-1)\n",
    "    a1, a2 = berry_phase_Tr_line(k_traj, HamQWZ, m_list[r], ns)\n",
    "    chern_list[r].append([a1,a2])\n",
    "\n",
    "  chern_list[r] = np.array(chern_list[r])\n",
    "\n",
    "\n",
    "fig = plt.figure( figsize =(15,4))\n",
    "\n",
    "ax1 = fig.add_subplot(131)\n",
    "ax1.scatter(klist, chern_list[0][:,0], c='blue', s=0.3, label='$m=-1$')\n",
    "ax1.set_xlabel('momentum $k_y$')\n",
    "ax1.set_ylabel('Wilson loop ')\n",
    "\n",
    "plt.legend(loc='upper left');\n",
    "\n",
    "ax2 = fig.add_subplot(132)\n",
    "ax2.scatter(klist, chern_list[1][:,0], c='blue', s=0.3, label='$m=1$')\n",
    "ax2.set_xlabel('momentum $k_y$')\n",
    "\n",
    "\n",
    "\n",
    "plt.legend(loc='upper left');\n",
    "\n",
    "ax3 = fig.add_subplot(133)\n",
    "ax3.scatter(klist, chern_list[2][:,0], c='blue', s=0.3, label='$m=5$')\n",
    "ax3.set_xlabel('momentum $k_y$')\n",
    "\n",
    "\n",
    "plt.legend(loc='upper left');\n",
    "plt.ylim(-0.5,0.5)\n",
    "plt.show()\n"
   ]
  },
  {
   "cell_type": "markdown",
   "metadata": {
    "id": "ry9PcHcDrLBx"
   },
   "source": [
    "The winding numbers are 1, -1 and 0, respectively. Another system we can look at is another model in KMO paper. Its Bloch Hamiltonian is given by"
   ]
  },
  {
   "cell_type": "code",
   "execution_count": 27,
   "metadata": {
    "id": "G8vEweH8NxoT"
   },
   "outputs": [],
   "source": [
    "def HamKMO_2(k_vec, var_list):\n",
    "\n",
    "    E1 = var_list[0]\n",
    "    E2 = var_list[1]\n",
    "    t = var_list[2]\n",
    "    t_2 = var_list[3] \n",
    "    kx = k_vec[0]\n",
    "    ky = k_vec[1]\n",
    "    \n",
    "    H = (-E1 * (np.cos(kx) + np.cos(ky)) * (band.S0 + band.Sz) \n",
    "         -E2 * (np.cos(kx) + np.cos(ky)) * (band.S0 - band.Sz) \n",
    "         -2*t * (np.cos(kx) - np.cos(ky)) * band.Sx \n",
    "         -t_2 * (np.sin(kx)* np.sin(ky)) * band.Sx ) \n",
    "\n",
    "    return H"
   ]
  },
  {
   "cell_type": "code",
   "execution_count": 28,
   "metadata": {
    "colab": {
     "base_uri": "https://localhost:8080/",
     "height": 392
    },
    "executionInfo": {
     "elapsed": 82673,
     "status": "ok",
     "timestamp": 1598886931735,
     "user": {
      "displayName": "Mert Kurttutan (Student)",
      "photoUrl": "https://lh3.googleusercontent.com/a-/AOh14Gh_7Vfh5BJbW5If45rpVn4Qe37xSMQRIXNM-WEz=s64",
      "userId": "10419925026950499760"
     },
     "user_tz": -180
    },
    "id": "n6r28P0OtZSL",
    "outputId": "fa8498de-1273-4938-b40a-dd96b20f2385"
   },
   "outputs": [
    {
     "data": {
      "image/png": "[encoded data removed]",
      "text/plain": [
       "<Figure size 432x432 with 1 Axes>"
      ]
     },
     "metadata": {
      "needs_background": "light"
     },
     "output_type": "display_data"
    }
   ],
   "source": [
    "eps = 0.001\n",
    "num1 = 300\n",
    "num2 = 300\n",
    "m_list=[-1, 1, 5]\n",
    "\n",
    "k3list = np.linspace(0, 2*np.pi,num1)\n",
    "\n",
    "ns = [0,1]\n",
    "\n",
    "t = 1                           #given values in the paper\n",
    "E1 = 0.1*t\n",
    "E2= -0.3*t\n",
    "t_2 = 0.8*t\n",
    "\n",
    "var_list = [E1, E2, t, t_2]\n",
    "\n",
    "chern = []\n",
    "\n",
    "for ky in k3list:\n",
    "  k_traj = np.zeros((num2-1, 2))\n",
    "  k_traj[:,0] = np.linspace(-np.pi+eps, np.pi+eps,num2)[:-1] \n",
    "  k_traj[:,1] = [ky]*(num2-1)\n",
    "  a1, a2 = berry_phase_Tr_line(k_traj, HamKMO_2, var_list, ns)\n",
    "  chern.append([a1,a2])\n",
    "\n",
    "\n",
    "chern = np.array(chern)\n",
    "\n",
    "\n",
    "fig = plt.figure( figsize =(6,6))\n",
    "\n",
    "ax1 = fig.add_subplot(111)\n",
    "ax1.scatter(k3list, chern[:,0], c='blue', s=0.3, label='KMO Model 2')\n",
    "ax1.set_xlabel('momentum $k_y$')\n",
    "ax1.set_ylabel('Wilson loop')\n",
    "\n",
    "\n",
    "plt.legend(loc='upper right');\n",
    "\n",
    "plt.show()\n"
   ]
  },
  {
   "cell_type": "markdown",
   "metadata": {
    "id": "Nu0dcKsoknc4"
   },
   "source": [
    "Now, the berry phases are quantized since the wavefunctions are real. This is because there is $\\sigma_y$ pauli matrix in the hamiltonian."
   ]
  },
  {
   "cell_type": "markdown",
   "metadata": {
    "id": "2zI0xUiUwsIl"
   },
   "source": [
    "Having studied all these systems, it is time to go to topological insulators with TR symmetry. We will first look at the first modek in the KMO paper. Its TR invariant version obtained by taking TR partner and coupling it with SO-term. The bloch Hamiltonian is given by"
   ]
  },
  {
   "cell_type": "code",
   "execution_count": 30,
   "metadata": {
    "id": "WxnEYflKwqmL"
   },
   "outputs": [],
   "source": [
    "def HamKMO_TR_1(k_vec, var_vec):\n",
    "\n",
    "    t = var_vec[0]\n",
    "    t2 = var_vec[1]\n",
    "    t3 = var_vec[2]\n",
    "    l = var_vec[3]\n",
    "    kx = k_vec[0]\n",
    "    ky = k_vec[1]\n",
    "  \n",
    "    H = ((-t*(1+np.cos(ky)+np.cos(2*kx))-t2*np.cos(kx)) * band.S0x  \n",
    "             + (-t*(-np.sin(ky)-np.sin(2*kx))-t2*np.sin(kx)) * band.S0y \n",
    "             + (-t3*np.sin(2*kx)) * band.Szz )\n",
    "    H_R = -1j*l*((-1/2*np.sin(kx)+np.sin(ky))*1j*band.Sxx+(1/2-1/2*np.cos(kx)+np.cos(ky))*1j*band.Sxy)\n",
    "\n",
    "    Hf =  H + H_R\n",
    "    return Hf"
   ]
  },
  {
   "cell_type": "markdown",
   "metadata": {
    "id": "ppn7ceCYsT3j"
   },
   "source": [
    "For the $\\mathbb{Z}_2$ classfication of TR TIs, we need to be extra careful. Since the underlying symmetry is TR when calculation the \"individual chern numbers\", we need to preserve the TR symmetry. This in the case of 1D system corresponded to taking Tr invariant Wilson loop of one member of Kramer pair. We can simply use the same Berry phase code for TR invariant lines in 2d. However, when we try to calculate Wilson loop along some line that is not tr invariant, e.g. $k_x = 0.4$ line, we cannot consistently go along one member of Kramer pair since, there is no dirac cone to pass through. But if we have $U(2)$-invariant formulation of Wilson loop along any line, then we can use it. Such a formulation is done by Bernevig et al, [see](https://arxiv.org/abs/1101.2011). This kind of convenient calculation is owing to the wannier center formulation of $\\mathbb{Z}_2$ topological invariant of TR TI's. We will use this to calculate $\\mathbb{Z}_2$ invariants, providing further consistency checks on our calculations. The code which implements the computation above is given by"
   ]
  },
  {
   "cell_type": "code",
   "execution_count": 31,
   "metadata": {
    "id": "WBvhcCVgsTRW"
   },
   "outputs": [],
   "source": [
    "def Z2_invariant(k_path, Hamil, var_vec, ns):\n",
    "    '''\n",
    "    all the parameters have the same functionality as in the case of berry_phase except for ns.\n",
    "    This is the index of bands. But, this time it must be given in pairs, e.g. ns=[0,1]  or [0,1, 2, 3, 4,6].\n",
    "    Namely, if we have ns = [0,1], the computation will be done over 1st and 2nd band corresponding to first Kramer pair.\n",
    "    '''\n",
    "\n",
    "    for i,k_vec in enumerate(k_path):\n",
    "      H = Hamil(k_vec, var_vec)\n",
    "      W = np.zeros((len(ns),len(ns)), dtype=complex)\n",
    "      if i ==0:\n",
    "        evals, ekets = la.eigh(H)\n",
    "        result=np.eye(len(ns), dtype=complex)\n",
    "        evs = ekets\n",
    "      else:\n",
    "        evals, ekets = la.eigh(H)\n",
    "        for u in ns:\n",
    "          for v in ns:\n",
    "            W[u][v] = np.vdot(old[:,u], ekets[:,v])\n",
    "        np.set_printoptions(suppress=True)\n",
    "        np.set_printoptions(precision=6)\n",
    "        #print(W)\n",
    "\n",
    "        result = np.dot(result, W)\n",
    "\n",
    "      old=ekets\n",
    "\n",
    "    for u in ns:\n",
    "      for v in ns:\n",
    "        W[u][v] = np.vdot(old[:,u], evs[:,v])\n",
    "    result = np.dot(result, W)\n",
    "    \n",
    "    r_list = []\n",
    "    for i in ns:\n",
    "        r_list.append(np.angle(la.eig(result)[0][i])/(2*np.pi))\n",
    "\n",
    "    return r_list                              #taking the eigenvalueso of Wilson loop"
   ]
  },
  {
   "cell_type": "code",
   "execution_count": 32,
   "metadata": {
    "id": "RxWtZ7fRGiwj"
   },
   "outputs": [],
   "source": [
    "eps = 0.0001\n",
    "num1 = 320\n",
    "num2 = 1000\n",
    "\n",
    "klist = [0, np.pi]\n",
    "\n",
    "\n",
    "t = 1\n",
    "t2 = t*(0.4)\n",
    "t3 = -t*(1.6)\n",
    "l = t*9\n",
    "var_list = [t, t2, t3, l]\n",
    "ns = [0,1]\n",
    "\n",
    "chern = []\n",
    "for kx in klist:\n",
    "  k_traj = np.zeros((num1-1, 2))\n",
    "  k_traj[:,0] = np.linspace(-np.pi+eps, np.pi+eps,num1)[:-1] \n",
    "  k_traj[:,1] = [kx]*(num1-1)\n",
    "\n",
    "  a1, a2 = Z2_invariant(k_traj, HamKMO_TR_1, var_list, ns)\n",
    "  chern.append([(a1),(a2)])\n"
   ]
  },
  {
   "cell_type": "code",
   "execution_count": 33,
   "metadata": {
    "colab": {
     "base_uri": "https://localhost:8080/",
     "height": 408
    },
    "executionInfo": {
     "elapsed": 101106,
     "status": "ok",
     "timestamp": 1598886950316,
     "user": {
      "displayName": "Mert Kurttutan (Student)",
      "photoUrl": "https://lh3.googleusercontent.com/a-/AOh14Gh_7Vfh5BJbW5If45rpVn4Qe37xSMQRIXNM-WEz=s64",
      "userId": "10419925026950499760"
     },
     "user_tz": -180
    },
    "id": "oimRH-sx0bgn",
    "outputId": "913fbaa0-3ae0-49ee-d06a-af42e9cadc92"
   },
   "outputs": [
    {
     "data": {
      "image/png": "[encoded data removed]",
      "text/plain": [
       "<Figure size 360x432 with 1 Axes>"
      ]
     },
     "metadata": {
      "needs_background": "light"
     },
     "output_type": "display_data"
    }
   ],
   "source": [
    "eps = 0.0001\n",
    "num1 = 120\n",
    "num2 = 1000\n",
    "\n",
    "klist = np.linspace(-np.pi, np.pi,num2)\n",
    "\n",
    "\n",
    "t = 1\n",
    "t2 = t*(0.4)\n",
    "t3 = -t*(1.7)\n",
    "l = t*9\n",
    "var_list = [t, t2, t3, l]\n",
    "ns = [0,1]\n",
    "\n",
    "chern = []\n",
    "for kx in klist:\n",
    "  k_traj = np.zeros((num1-1, 2))\n",
    "  k_traj[:,1] = np.linspace(-np.pi+eps, np.pi+eps,num1)[:-1] \n",
    "  k_traj[:,0] = [kx]*(num1-1)\n",
    "\n",
    "  a1, a2 = Z2_invariant(k_traj, HamKMO_TR_1, var_list, ns)\n",
    "  chern.append([(a1),(a2)])\n",
    "\n",
    "\n",
    "chern = np.array(chern)\n",
    "\n",
    "\n",
    "fig = plt.figure(figsize =(5,6))\n",
    "ax1 = fig.add_subplot(111)\n",
    "\n",
    "ax1.scatter(klist, chern[:,0], c='blue', s=0.4)\n",
    "ax1.scatter(klist, chern[:,1], c='blue', s=0.4)\n",
    "ax1.set_xlabel('momentum $k_x$')\n",
    "ax1.set_ylabel('Wilson loop in units of $2\\pi$')\n",
    "ax1.set_title('Wilson Loop Spectrum of KMO Model')\n",
    "\n",
    "plt.show()\n",
    "\n"
   ]
  },
  {
   "cell_type": "code",
   "execution_count": 34,
   "metadata": {
    "id": "PPnS28QJiHSm"
   },
   "outputs": [],
   "source": [
    "def k_path(point_list, loop, N):\n",
    "  '''\n",
    "  This function produces the path connecting the set of points given in the point_list input.\n",
    "  The path will be closed if loop is True and will be open if false.\n",
    "  N is the number of points in the path.\n",
    "  One can check the stability of the result by increasing N further.\n",
    "  '''\n",
    "  k_trajectory = np.empty([0,2])\n",
    "  for i in range(len(point_list)-1):\n",
    "    segment = np.linspace(point_list[i], point_list[i+1], N)[1:]\n",
    "    k_trajectory = np.append(k_trajectory, segment, axis=0)\n",
    "  if loop:\n",
    "    segment = np.linspace(point_list[-1], point_list[0], N)[1:]\n",
    "    k_trajectory = np.append(k_trajectory, segment, axis=0)\n",
    "  return k_trajectory\n",
    "    "
   ]
  },
  {
   "cell_type": "code",
   "execution_count": 35,
   "metadata": {
    "colab": {
     "base_uri": "https://localhost:8080/",
     "height": 751
    },
    "executionInfo": {
     "elapsed": 101021,
     "status": "ok",
     "timestamp": 1598886950324,
     "user": {
      "displayName": "Mert Kurttutan (Student)",
      "photoUrl": "https://lh3.googleusercontent.com/a-/AOh14Gh_7Vfh5BJbW5If45rpVn4Qe37xSMQRIXNM-WEz=s64",
      "userId": "10419925026950499760"
     },
     "user_tz": -180
    },
    "id": "PNm4yyriOzO_",
    "outputId": "31a0fed7-fe48-4575-aa03-ceb189a6c32a"
   },
   "outputs": [
    {
     "data": {
      "text/plain": [
       "(-20.0, 20.0)"
      ]
     },
     "execution_count": 35,
     "metadata": {},
     "output_type": "execute_result"
    },
    {
     "data": {
      "image/png": "[encoded data removed]",
      "text/plain": [
       "<Figure size 576x864 with 1 Axes>"
      ]
     },
     "metadata": {
      "needs_background": "light"
     },
     "output_type": "display_data"
    }
   ],
   "source": [
    "t = 5\n",
    "t2 = t*(0.4)\n",
    "t3 = -t*(1.6)\n",
    "l = t*0.15\n",
    "\n",
    "var_list = [t, t2, t3, l]\n",
    "N=200\n",
    "\n",
    "klist_sqr = k_path([(0,0),(np.pi,0),(np.pi,np.pi),(0,np.pi)], True, N)\n",
    "\n",
    "klist_sqr1 = k_path([(-np.pi,-np.pi*0.2),(0,0),(np.pi,np.pi*0.2)], False, N)\n",
    "\n",
    "evals_mat,evecs_mat = energyBand(klist_sqr1, HamKMO_TR_1, var_list)\n",
    "\n",
    "fig, ax = plt.subplots(figsize=(8,12))\n",
    "\n",
    "\n",
    "kplot_list = np.linspace(0,4,len(klist_sqr1))\n",
    "\n",
    "colorList = ['b','c','r','g']\n",
    "\n",
    "for m in range(evecs_mat[0].shape[0]):\n",
    "  ax.plot(kplot_list, (evals_mat[:,m]), colorList[0])\n",
    "\n",
    "\n",
    "\n",
    "ax.set_xlabel('Momentum k')\n",
    "ax.set_ylabel('Eigenenergies')\n",
    "ax.set_title('Energy-Band Diagram of KMO Model on $\\Gamma-X-M-Y$ path');\n",
    "positions = (0, 1, 2, 3, 4)\n",
    "labels = (\"$\\Gamma$\", \"$X$\", \"$M$\", \"$Y$\", \"$\\Gamma$\")\n",
    "plt.xticks(positions, labels)\n",
    "plt.ylim(-20,20)\n",
    "\n"
   ]
  },
  {
   "cell_type": "markdown",
   "metadata": {
    "id": "TEOMLmVhwEQs"
   },
   "source": [
    "Another model of TR TI in KMO paper is the following."
   ]
  },
  {
   "cell_type": "code",
   "execution_count": 37,
   "metadata": {
    "id": "1dmIAPODO1py"
   },
   "outputs": [],
   "source": [
    "def HamKMO_TR_2(k_vec, var_vec):\n",
    "\n",
    "    E1 = var_vec[0] \n",
    "    E2 = var_vec[1] \n",
    "    t = var_vec[2] \n",
    "    t_2 = var_vec[3] \n",
    "    l = var_vec[4] \n",
    "    kx = k_vec[0]\n",
    "    ky = k_vec[1]\n",
    "\n",
    "    H = (-E1 * (np.cos(kx) + np.cos(ky)) * (band.S00 + band.S0z)  \n",
    "            -E2 * (np.cos(kx) + np.cos(ky)) * (band.S00 - band.S0z) \n",
    "             -2*t * (np.cos(kx) - np.cos(ky)) * band.S0x \n",
    "             -t_2 * (np.sin(kx)* np.sin(ky)) * band.S0x )\n",
    "    \n",
    "    H_mix = -l*(np.sin(kx)*band.Sy0 + np.sin(ky) * band.Sx0)\n",
    "\n",
    "    return H + H_mix"
   ]
  },
  {
   "cell_type": "code",
   "execution_count": 38,
   "metadata": {
    "colab": {
     "base_uri": "https://localhost:8080/",
     "height": 751
    },
    "executionInfo": {
     "elapsed": 101306,
     "status": "ok",
     "timestamp": 1598886950690,
     "user": {
      "displayName": "Mert Kurttutan (Student)",
      "photoUrl": "https://lh3.googleusercontent.com/a-/AOh14Gh_7Vfh5BJbW5If45rpVn4Qe37xSMQRIXNM-WEz=s64",
      "userId": "10419925026950499760"
     },
     "user_tz": -180
    },
    "id": "orr_kypUx_ah",
    "outputId": "5253f1fa-8ef6-43dc-f2e1-a79b7abb66a1"
   },
   "outputs": [
    {
     "data": {
      "text/plain": [
       "(-20.0, 20.0)"
      ]
     },
     "execution_count": 38,
     "metadata": {},
     "output_type": "execute_result"
    },
    {
     "data": {
      "image/png": "[encoded data removed]",
      "text/plain": [
       "<Figure size 576x864 with 1 Axes>"
      ]
     },
     "metadata": {
      "needs_background": "light"
     },
     "output_type": "display_data"
    }
   ],
   "source": [
    "t = 1\n",
    "E1 = t*(0.1)\n",
    "E2 = -t*(0.3)\n",
    "t_2 = t*0.8\n",
    "l = t*0.4\n",
    "\n",
    "var_list = [E1, E2, t, t_2, l]\n",
    "\n",
    "N=200\n",
    "\n",
    "klist_sqr = k_path([(0,0),(np.pi,0),(np.pi, np.pi)], True, N)\n",
    "\n",
    "evals_mat,evecs_mat = energyBand(klist_sqr, HamKMO_TR_2, var_list)\n",
    "\n",
    "fig, ax = plt.subplots(figsize=(8,12))\n",
    "\n",
    "\n",
    "kplot_list = np.linspace(0,3,len(klist_sqr))\n",
    "\n",
    "colorList = ['b','c','r','g']\n",
    "\n",
    "for m in range(evecs_mat[0].shape[0]):\n",
    "  ax.plot(kplot_list, (evals_mat[:,m]), colorList[0])\n",
    "\n",
    "\n",
    "\n",
    "ax.set_xlabel('Momentum k')\n",
    "ax.set_ylabel('Eigenenergies')\n",
    "ax.set_title('Energy-Band Diagram of KMO Model on $\\Gamma-X-M$ path');\n",
    "positions = (0, 1, 2, 3)\n",
    "labels = (\"$\\Gamma$\", \"$X$\", \"$M$\", \"$\\Gamma$\")\n",
    "plt.xticks(positions, labels)\n",
    "plt.ylim(-20,20)\n",
    "\n"
   ]
  },
  {
   "cell_type": "markdown",
   "metadata": {
    "id": "xtzxWsv9ABQj"
   },
   "source": [
    "Let's look at the Wilson loop spectrum of this model."
   ]
  },
  {
   "cell_type": "code",
   "execution_count": 39,
   "metadata": {
    "colab": {
     "base_uri": "https://localhost:8080/",
     "height": 299
    },
    "executionInfo": {
     "elapsed": 115254,
     "status": "ok",
     "timestamp": 1598886964666,
     "user": {
      "displayName": "Mert Kurttutan (Student)",
      "photoUrl": "https://lh3.googleusercontent.com/a-/AOh14Gh_7Vfh5BJbW5If45rpVn4Qe37xSMQRIXNM-WEz=s64",
      "userId": "10419925026950499760"
     },
     "user_tz": -180
    },
    "id": "dYI7eGFZAF1r",
    "outputId": "b4bf2ec6-805d-4422-c08f-fe01aeffdfde"
   },
   "outputs": [
    {
     "data": {
      "image/png": "[encoded data removed]",
      "text/plain": [
       "<Figure size 432x288 with 1 Axes>"
      ]
     },
     "metadata": {
      "needs_background": "light"
     },
     "output_type": "display_data"
    }
   ],
   "source": [
    "eps = 0.0001\n",
    "num1 = 100\n",
    "\n",
    "num2 = 1000\n",
    "\n",
    "klist = np.linspace(0, 2*np.pi,num2)\n",
    "\n",
    "\n",
    "t = 200\n",
    "E1 = t*(0.1)\n",
    "E2 = -t*(0.3)\n",
    "t_2 = t*0.8\n",
    "l = t*0.4\n",
    "\n",
    "\n",
    "\n",
    "var_list = [E1, E2, t, t_2, l]\n",
    "ns = [0,1]\n",
    "\n",
    "chern = []\n",
    "for kx in klist:\n",
    "  k_traj = np.zeros((num1-1, 2))\n",
    "  k_traj[:,1] = np.linspace(-np.pi+eps, np.pi+eps,num1)[:-1] \n",
    "  k_traj[:,0] = [kx]*(num1-1)\n",
    "\n",
    "  a1, a2 = Z2_invariant(k_traj, HamKMO_TR_2, var_list, ns)\n",
    "  chern.append([(a1),(a2)])\n",
    "\n",
    "\n",
    "chern = np.array(chern)\n",
    "\n",
    "\n",
    "fig = plt.figure()\n",
    "ax1 = fig.add_subplot(111)\n",
    "ax1.scatter(klist, chern[:,0], c='blue', s=0.4)\n",
    "ax1.scatter(klist, chern[:,1], c='blue', s=0.4)\n",
    "ax1.set_xlabel('momentum $k_x$')\n",
    "ax1.set_ylabel('Wilson loop in units of $2\\pi$')\n",
    "ax1.set_title('Wilson Loop Spectrum of KMO Model 2')\n",
    "\n",
    "plt.show()\n",
    "\n"
   ]
  },
  {
   "cell_type": "markdown",
   "metadata": {
    "id": "ZdOn4zeb8bIr"
   },
   "source": [
    "Around some region above it is highly oscillating, this generally signals that it is gapless around this region. To confirm this, look at the energy diagram in this region"
   ]
  },
  {
   "cell_type": "code",
   "execution_count": 40,
   "metadata": {
    "colab": {
     "base_uri": "https://localhost:8080/",
     "height": 356
    },
    "executionInfo": {
     "elapsed": 115235,
     "status": "ok",
     "timestamp": 1598886964670,
     "user": {
      "displayName": "Mert Kurttutan (Student)",
      "photoUrl": "https://lh3.googleusercontent.com/a-/AOh14Gh_7Vfh5BJbW5If45rpVn4Qe37xSMQRIXNM-WEz=s64",
      "userId": "10419925026950499760"
     },
     "user_tz": -180
    },
    "id": "18VpYT5C_85o",
    "outputId": "342fd347-15c4-4f48-d65f-00f8aa31b2b1"
   },
   "outputs": [
    {
     "data": {
      "image/png": "[encoded data removed]",
      "text/plain": [
       "<Figure size 360x360 with 1 Axes>"
      ]
     },
     "metadata": {
      "needs_background": "light"
     },
     "output_type": "display_data"
    }
   ],
   "source": [
    "t = 1\n",
    "E1 = t*(0.1)\n",
    "E2 = -t*(0.3)\n",
    "t_2 = t*0.8\n",
    "l = t*0.4\n",
    "\n",
    "var_list = [E1, E2, t, t_2, l]\n",
    "\n",
    "N=200\n",
    "\n",
    "klist_sqr = k_path([(1.35,-np.pi),(1.35,np.pi)], False, N)\n",
    "\n",
    "evals_mat,evecs_mat = energyBand(klist_sqr, HamKMO_TR_2, var_list)\n",
    "\n",
    "fig, ax = plt.subplots(figsize=(5,5))\n",
    "\n",
    "kplot_list = np.linspace(-np.pi,np.pi,len(klist_sqr))\n",
    "\n",
    "colorList = ['b','c','r','g']\n",
    "for m in range(evecs_mat[0].shape[0]):\n",
    "  ax.plot(kplot_list, (evals_mat[:,m]), colorList[0])\n",
    "\n",
    "\n",
    "\n",
    "ax.set_xlabel('Momentum $k_y$')\n",
    "ax.set_ylabel('Eigenenergies')\n",
    "ax.set_title('Energy-Band Diagram of KMO Model 2 with $k_x = 1.35$');\n",
    "\n",
    "plt.ylim(-5.5,5.5)\n",
    "plt.grid(True)"
   ]
  },
  {
   "cell_type": "markdown",
   "metadata": {
    "id": "YnhoPzrcPg4P"
   },
   "source": [
    "We could also use gap function to check its gap"
   ]
  },
  {
   "cell_type": "code",
   "execution_count": 41,
   "metadata": {
    "id": "ILPKcLiGD5ze"
   },
   "outputs": [],
   "source": [
    "def gap(Ham, var_vec, N):\n",
    "  kx_path = np.linspace(-np.pi, np.pi, N)\n",
    "  ky_path = np.linspace(-np.pi, np.pi, N)\n",
    "  H = Ham((0,0), var_vec)\n",
    "  n = H.shape[0]\n",
    "  evals = la.eigh(H)[0]\n",
    "  gap = np.abs(evals[n//2]- evals[n//2 -1])\n",
    "  for kx in kx_path:\n",
    "    for ky in ky_path:\n",
    "      evals = la.eigh(Ham((kx,ky), var_vec))[0]\n",
    "      gap_n = np.abs(evals[n//2]- evals[n//2 -1])\n",
    "      if gap_n < gap:\n",
    "        gap = gap_n\n",
    "  return gap"
   ]
  },
  {
   "cell_type": "code",
   "execution_count": 43,
   "metadata": {
    "colab": {
     "base_uri": "https://localhost:8080/",
     "height": 35
    },
    "executionInfo": {
     "elapsed": 436365,
     "status": "ok",
     "timestamp": 1598887285829,
     "user": {
      "displayName": "Mert Kurttutan (Student)",
      "photoUrl": "https://lh3.googleusercontent.com/a-/AOh14Gh_7Vfh5BJbW5If45rpVn4Qe37xSMQRIXNM-WEz=s64",
      "userId": "10419925026950499760"
     },
     "user_tz": -180
    },
    "id": "H5BhqW9HFupS",
    "outputId": "620efeba-0d51-4b08-fed2-3c50d8b2f4f1"
   },
   "outputs": [
    {
     "name": "stdout",
     "output_type": "stream",
     "text": [
      "0.0002079159337288472\n"
     ]
    }
   ],
   "source": [
    "t = 1\n",
    "E1 = t*(0.1)\n",
    "E2 = -t*(0.3)\n",
    "t_2 = t*0.8\n",
    "l = t*0.4\n",
    "\n",
    "var_list = [E1, E2, t, t_2, l]\n",
    "N=200\n",
    "\n",
    "print(gap(HamKMO_TR_2, var_list, N))\n",
    "\n",
    "#It gets even smaller as N increases"
   ]
  },
  {
   "cell_type": "markdown",
   "metadata": {
    "id": "TWCB7oAiCE59"
   },
   "source": [
    "This is in contradiction to it being insulator???"
   ]
  },
  {
   "cell_type": "markdown",
   "metadata": {
    "id": "_VGsf5u6-Oko"
   },
   "source": [
    "Another system we can look at is a variation of BHZ model that includes spin-mixing term that breaks inversion symmetry. Recall that the inversion symmetry in this system is given by\n",
    "$$\\sigma_x \\times \\mathbb{1}$$ where $\\sigma_x$ acts on the orbital space, $\\mathbb{1}$ on the spin space."
   ]
  },
  {
   "cell_type": "code",
   "execution_count": 44,
   "metadata": {
    "id": "d0XckvJa-Xxl"
   },
   "outputs": [],
   "source": [
    "def HamBHZ(k_vec, var_vec):\n",
    "\n",
    "    kx = k_vec[0]\n",
    "    ky = k_vec[1]\n",
    "    A = var_vec[0]\n",
    "    B= var_vec[1]\n",
    "    C = var_vec[2]\n",
    "    D = var_vec[3]\n",
    "    M = var_vec[4]\n",
    "    delta = var_vec[5]\n",
    "\n",
    "    \n",
    "    E_k = C- 2*D*(2- np.cos(kx) - np.cos(ky))\n",
    "    d_1 = A*np.sin(kx)\n",
    "    d_2 = A*np.sin(ky) \n",
    "    d_3 = -2*B*(2 -M/(2*B)-np.cos(kx) - np.cos(ky))\n",
    "    H = E_k*band.S00 + d_1*band.Szx + d_2*band.S0y + d_3*band.S0z\n",
    "    \n",
    "    # term breaking the inversion symmetry\n",
    "    H_int = delta*(-band.Syy)                         \n",
    "\n",
    "    return H + H_int\n",
    "\n"
   ]
  },
  {
   "cell_type": "markdown",
   "metadata": {
    "id": "KinbA2MNGHaS"
   },
   "source": [
    "Now, we can look at different $\\mathbb{Z}_2$-phases of this model by looking at the quantity given in the paper by Bernevig et al. The phases are distinguished by two sets of parameters below."
   ]
  },
  {
   "cell_type": "code",
   "execution_count": 45,
   "metadata": {
    "colab": {
     "base_uri": "https://localhost:8080/",
     "height": 300
    },
    "executionInfo": {
     "elapsed": 445776,
     "status": "ok",
     "timestamp": 1598887295275,
     "user": {
      "displayName": "Mert Kurttutan (Student)",
      "photoUrl": "https://lh3.googleusercontent.com/a-/AOh14Gh_7Vfh5BJbW5If45rpVn4Qe37xSMQRIXNM-WEz=s64",
      "userId": "10419925026950499760"
     },
     "user_tz": -180
    },
    "id": "KVe0A2Ht-wzy",
    "outputId": "b68216b6-0f2e-4dba-b93d-b7b69d63b6aa"
   },
   "outputs": [
    {
     "data": {
      "image/png": "[encoded data removed]",
      "text/plain": [
       "<Figure size 576x288 with 2 Axes>"
      ]
     },
     "metadata": {
      "needs_background": "light"
     },
     "output_type": "display_data"
    }
   ],
   "source": [
    "eps = 0.001\n",
    "num = 200\n",
    "\n",
    "A=-13.68\n",
    "B=-16.9\n",
    "C=-0.0263 \n",
    "D=-0.514\n",
    "M=-2.058\n",
    "delta=1.20\n",
    "\n",
    "\n",
    "var_list = [A,B,C,D, M, delta]\n",
    "\n",
    "k3list = np.linspace(0, np.pi,num)\n",
    "\n",
    "ns = [0,1]\n",
    "num2 = 200\n",
    "chern = []\n",
    "for ky in k3list:\n",
    "  k_traj = np.zeros((num2-1, 2))\n",
    "  k_traj[:,0] = np.linspace(-np.pi+eps, np.pi+eps,num2)[:-1] \n",
    "  k_traj[:,1] = [ky]*(num2-1)\n",
    "\n",
    "  a1, a2 = Z2_invariant(k_traj, HamBHZ, var_list, ns)\n",
    "  chern.append([(a1),(a2)])\n",
    "\n",
    "chern = np.array(chern)\n",
    "\n",
    "\n",
    "\n",
    "fig = plt.figure( figsize =(8,4))\n",
    "ax1 = fig.add_subplot(121)\n",
    "\n",
    "ax1.scatter(k3list, chern[:,0], c='blue', s=0.3)\n",
    "ax1.scatter(k3list, chern[:,1], c='blue', s=0.3)\n",
    "ax1.set_xlabel('momentum $k_y$')\n",
    "ax1.set_ylabel('Wilson loop in units of $2\\pi$')\n",
    "ax1.set_title('Wilson Loop Spectrum of BHZ Model')\n",
    "plt.grid(True)\n",
    "\n",
    "\n",
    "A=-14.48\n",
    "B=-18.0\n",
    "C=-0.018\n",
    "D=-0.594\n",
    "M=2.766\n",
    "delta=1.20\n",
    "\n",
    "\n",
    "var_list = [A,B,C,D, M, delta]\n",
    "\n",
    "\n",
    "chern = []\n",
    "for ky in k3list:\n",
    "  k_traj = np.zeros((num2-1, 2))\n",
    "  k_traj[:,0] = np.linspace(-np.pi+eps, np.pi+eps,num2)[:-1] \n",
    "  k_traj[:,1] = [ky]*(num2-1)\n",
    "\n",
    "  a1, a2 = Z2_invariant(k_traj, HamBHZ, var_list, ns)\n",
    "  chern.append([(a1),(a2)])\n",
    "\n",
    "\n",
    "chern = np.array(chern)\n",
    "\n",
    "ax2 = fig.add_subplot(122)\n",
    "\n",
    "ax2.scatter(k3list, chern[:,0], c='blue', s=0.3)\n",
    "ax2.scatter(k3list, chern[:,1], c='blue', s=0.3)\n",
    "ax2.set_xlabel('momentum $k_y$')\n",
    "\n",
    "ax2.set_title('Wilson Loop Spectrum of BHZ Model')\n",
    "\n",
    "plt.ylim(-0.5,0.5)\n",
    "plt.grid(True)\n",
    "plt.show()"
   ]
  },
  {
   "cell_type": "markdown",
   "metadata": {
    "id": "v1kPdHptWsXD"
   },
   "source": [
    "First is in the non-trivial $\\mathbb{Z}_2$-phase since any line crosses odd number of points. The second case is trivial since any line crosses even number of points."
   ]
  },
  {
   "cell_type": "markdown",
   "metadata": {
    "id": "dLM6exwbG3EI"
   },
   "source": [
    "Finally, we can try our codes on Kane-Mele model for QSHE. "
   ]
  },
  {
   "cell_type": "markdown",
   "metadata": {
    "id": "9ARmP_s7C2xE"
   },
   "source": [
    "However, there is one issue we need to consider. The underlying BZ is conventially hexagon. But we can choose it to be parallelogram. But with the numerical implementation above, it would be easier if we have square BZ. This can be accomplished by a change of basis and rescaling,\n",
    "\n",
    "$$\n",
    "k_1 \\to \\vec{k} \\cdot \\vec{a}_1 = \\frac{3}{2}k_1 + \\frac{\\sqrt{3}}{2}k_2 \\\\\n",
    "k_2 \\to \\vec{k} \\cdot \\vec{a}_2 = \\frac{3}{2}k_1 - \\frac{\\sqrt{3}}{2}k_2\n",
    "$$\n",
    "\n",
    "\n",
    "With this change, the reciprocal lattice vectors become those of square BZ. Note that this is convention is used in writing the Bloch Hamiltonian for Kane-Mele model. Its bloch hamiltonian in this convention is given by the following function."
   ]
  },
  {
   "cell_type": "code",
   "execution_count": 47,
   "metadata": {
    "id": "ZiQ0JIM7uu-q"
   },
   "outputs": [],
   "source": [
    "def KaneMele(k_vec, var_vec):\n",
    "\n",
    "    kx = k_vec[0]\n",
    "    ky = k_vec[1]\n",
    "    t = var_vec[0]\n",
    "    l_v = var_vec[1] \n",
    "    l_R = var_vec[2] \n",
    "    l_SO = var_vec[3] \n",
    "\n",
    "    d_1 = t*(1 + 2*np.cos((kx-ky)/2)*np.cos((kx+ky)/2))\n",
    "    d_2 = l_v\n",
    "    d_3 = l_R*(1 - np.cos((kx-ky)/2)*np.cos((kx+ky)/2))\n",
    "    d_4 = -np.sqrt(3)*l_R*np.sin((kx-ky)/2)*np.sin((kx+ky)/2)\n",
    "    d_12 = -2*t*np.cos((kx-ky)/2)*np.sin((kx+ky)/2)\n",
    "    d_15 = l_SO * (2*np.sin(2*(kx-ky)/2) - 4*np.sin((kx-ky)/2)*np.cos((kx+ky)/2))\n",
    "    d_23 = -l_R * np.cos((kx-ky)/2)*np.sin((kx+ky)/2)\n",
    "    d_24 = np.sqrt(3)*l_R * np.sin((kx-ky)/2)*np.cos((kx+ky)/2)\n",
    "\n",
    "    H =  (d_1*band.G_1 + d_2*band.G_2 + d_3*band.G_3 + d_4*band.G_4 \n",
    "            + d_12*band.G_12 + d_15*band.G_15 + d_23*band.G_23 + d_24*band.G_24)\n",
    "\n",
    "    return H"
   ]
  },
  {
   "cell_type": "markdown",
   "metadata": {
    "id": "aFzneV_RTh02"
   },
   "source": [
    "Going from Fu-Kane convention to ours, One needs to apply the change $$x \\to \\frac{k_x-k_y}{2}, \\qquad y \\to \\frac{k_x+k_y}{2}$$ for our convention of converting to the square BZ."
   ]
  },
  {
   "cell_type": "code",
   "execution_count": 48,
   "metadata": {
    "colab": {
     "base_uri": "https://localhost:8080/",
     "height": 300
    },
    "executionInfo": {
     "elapsed": 487716,
     "status": "ok",
     "timestamp": 1598887337270,
     "user": {
      "displayName": "Mert Kurttutan (Student)",
      "photoUrl": "https://lh3.googleusercontent.com/a-/AOh14Gh_7Vfh5BJbW5If45rpVn4Qe37xSMQRIXNM-WEz=s64",
      "userId": "10419925026950499760"
     },
     "user_tz": -180
    },
    "id": "xKagDvBS28sO",
    "outputId": "9bc34f49-16b6-4d9c-e4f1-2b710d00d607"
   },
   "outputs": [
    {
     "data": {
      "image/png": "[encoded data removed]",
      "text/plain": [
       "<Figure size 1008x288 with 2 Axes>"
      ]
     },
     "metadata": {
      "needs_background": "light"
     },
     "output_type": "display_data"
    }
   ],
   "source": [
    "eps = 0.001\n",
    "num1 = 150\n",
    "num2 = 700\n",
    "\n",
    "t = 1\n",
    "l_v = (0.4)*t\n",
    "l_R = (0.05)*t\n",
    "l_SO = (0.06)*t\n",
    "\n",
    "var_list = [t, l_v, l_R, l_SO]\n",
    "\n",
    "klist = np.linspace(-np.pi, np.pi,num)\n",
    "\n",
    "ns = [0,1]\n",
    "\n",
    "chern = []\n",
    "for ky in klist:\n",
    "  k_traj = np.zeros((num2-1, 2))\n",
    "  k_traj[:,0] = np.linspace(-np.pi+eps, np.pi+eps,num2)[:-1] \n",
    "  k_traj[:,1] = [ky]*(num2-1)\n",
    "\n",
    "  a1, a2 = Z2_invariant(k_traj, KaneMele, var_list, ns)\n",
    "  chern.append([(a1),(a2)])\n",
    "\n",
    "\n",
    "chern = np.array(chern)\n",
    "\n",
    "\n",
    "fig = plt.figure( figsize =(14,4))\n",
    "ax1 = fig.add_subplot(121)\n",
    "\n",
    "ax1.scatter(klist, chern[:,0], c='blue', s=0.33)\n",
    "ax1.scatter(klist, chern[:,1], c='blue', s=0.33)\n",
    "ax1.set_xlabel('momentum $k_y$')\n",
    "ax1.set_ylabel('Wilson loop in units of $2\\pi$')\n",
    "ax1.set_title('Wilson Loop Spectrum of Kane-Mele Model')\n",
    "\n",
    "\n",
    "\n",
    "plt.ylim(-0.5,0.5)\n",
    "plt.grid(True)\n",
    "\n",
    "\n",
    "t = 1\n",
    "l_v = (0.1)*t\n",
    "l_R = (0.05)*t\n",
    "l_SO = (0.06)*t\n",
    "\n",
    "var_list = [t, l_v, l_R, l_SO]\n",
    "\n",
    "\n",
    "\n",
    "\n",
    "chern = []\n",
    "for ky in klist:\n",
    "  k_traj = np.zeros((num2-1, 2))\n",
    "  k_traj[:,0] = np.linspace(-np.pi+eps, np.pi+eps,num2)[:-1] \n",
    "  k_traj[:,1] = [ky]*(num2-1)\n",
    "\n",
    "  a1, a2 = Z2_invariant(k_traj, KaneMele, var_list, ns)\n",
    "  chern.append([(a1),(a2)])\n",
    "\n",
    "chern = np.array(chern)\n",
    "\n",
    "\n",
    "\n",
    "ax2 = fig.add_subplot(122)\n",
    "\n",
    "ax2.scatter(klist, chern[:,0], c='blue', s=0.33, label='first')\n",
    "ax2.scatter(klist, chern[:,1], c='blue', s=0.33, label='second')\n",
    "ax2.set_xlabel('momentum $k_y$')\n",
    "\n",
    "ax2.set_title('Wilson Loop Spectrum of Kane-Mele Model')\n",
    "\n",
    "\n",
    "\n",
    "plt.ylim(-0.5,0.5)\n",
    "plt.grid(True)\n",
    "plt.show()"
   ]
  },
  {
   "cell_type": "markdown",
   "metadata": {
    "id": "-_eqTDIBOh-i"
   },
   "source": [
    "First is in the trivial $\\mathbb{Z}_2$-phase since any line crosses even number of points. The second case is non-trivial since any line crosses odd number of points. This agrees with the result from the paper by Kane and Mele.\n",
    "\n",
    "Note that this is the reflected version of the result in  Bernevig paper. But this does not change the result due to $\\mathbb{Z}_2$ nature of the system. But this might have arisen from one error in deriving the formula in their paper, which amounts to conjugating the dot product."
   ]
  },
  {
   "cell_type": "markdown",
   "metadata": {
    "id": "cTId3GHKR3w2"
   },
   "source": [
    "Finally, we will look at the $\\mathbb{Z}_2$ invariant of the third model of kmo paper. Its bloch hamiltonian is given by"
   ]
  },
  {
   "cell_type": "code",
   "execution_count": 49,
   "metadata": {
    "id": "MzMuGe7TC7qf"
   },
   "outputs": [],
   "source": [
    "def KMO3(k_vec, var_vec):\n",
    "    \"\"\"\n",
    "    This function computes the energy band diagram of a given system.\n",
    "    \n",
    "    Note that depending on the hamiltonian, the first part changes\n",
    "    \n",
    "    \"\"\"\n",
    "    kx = k_vec[0]\n",
    "    ky = k_vec[1]\n",
    "    t_s = var_vec[0]\n",
    "    t_p = var_vec[1] \n",
    "    t_2 = var_vec[2] \n",
    "    a = var_vec[3]\n",
    "    rho = var_vec[4]\n",
    "    eps = var_vec[5]\n",
    "    l = var_vec[6]\n",
    "\n",
    "\n",
    "    #negative x-spin\n",
    "    h_k_neg = (1/2*(1 + a*(np.cos(ky) - 1j*np.sin(ky)) + np.cos(kx-eps) -1j*np.sin(kx-eps))*(t_s + t_p)*band.S0\n",
    "                -1/2*(-1/2 + a*(np.cos(ky) - 1j*np.sin(ky)) - 1/2*(np.cos(kx-eps) -1j*np.sin(kx-eps)))*(t_s - t_p) * band.Sz\n",
    "                + np.sqrt(3)/4*(-1 + (np.cos(kx-eps) -1j*np.sin(kx-eps)))*(t_s - t_p)*band.Sx )\n",
    "    \n",
    "    h_kc_neg = np.transpose(np.conjugate(h_k_neg))\n",
    "    Hk_neg = np.block([[np.zeros((2,2)), h_k_neg],[h_kc_neg, np.zeros((2,2))]])\n",
    "\n",
    "    H1_k_neg = -t_2/4*(np.sin(kx-eps - ky) + np.sin(kx-eps) - rho*np.sin(ky))* band.Szy\n",
    "    H_neg = Hk_neg + H1_k_neg\n",
    "\n",
    "    \n",
    "    #positive x spin\n",
    "    h_k_pos = ( 1/2*(1 + a*(np.cos(-ky) - 1j*np.sin(-ky)) + np.cos(-kx+eps) -1j*np.sin(-kx+eps))*(t_s + t_p) * band.S0\n",
    "                -1/2*(-1/2 + a*(np.cos(-ky) - 1j*np.sin(-ky)) - 1/2*(np.cos(-kx+eps) -1j*np.sin(-kx+eps)))*(t_s - t_p) * band.Sz\n",
    "                + np.sqrt(3)/4*(-1 + (np.cos(-kx+eps) -1j*np.sin(-kx+eps)))*(t_s - t_p)*band.Sx )\n",
    "    \n",
    "    h_kc_pos = np.transpose(np.conjugate(h_k_pos))\n",
    "    Hk_pos = np.block([[np.zeros((2,2)), h_k_pos],[h_kc_pos, np.zeros((2,2))]])\n",
    "\n",
    "    H1_k_pos = -t_2/4*(np.sin(-kx+eps + ky) + np.sin(-kx+eps) - rho*np.sin(-ky))* band.Szy\n",
    "    H_pos = Hk_pos + H1_k_pos\n",
    "    H_pos = np.conjugate(H_pos)\n",
    "\n",
    "    H_mix = l*np.sin(kx) * band.S00\n",
    "\n",
    "    return np.block([[H_pos, np.zeros((4,4))],[np.zeros((4,4)), H_neg]]) + np.kron(band.Sy, H_mix)\n"
   ]
  },
  {
   "cell_type": "code",
   "execution_count": 52,
   "metadata": {
    "colab": {
     "base_uri": "https://localhost:8080/",
     "height": 87
    },
    "executionInfo": {
     "elapsed": 487902,
     "status": "ok",
     "timestamp": 1598887337550,
     "user": {
      "displayName": "Mert Kurttutan (Student)",
      "photoUrl": "https://lh3.googleusercontent.com/a-/AOh14Gh_7Vfh5BJbW5If45rpVn4Qe37xSMQRIXNM-WEz=s64",
      "userId": "10419925026950499760"
     },
     "user_tz": -180
    },
    "id": "dpB7mpSNzLsB",
    "outputId": "4bc191a9-804a-434f-9bbf-6cf0f38d4e21"
   },
   "outputs": [
    {
     "name": "stdout",
     "output_type": "stream",
     "text": [
      "The LBO invariant for the line k_y=0 is -0.00000\n",
      "The LBO invariant for the line k_y=π is -0.50000\n",
      "The LBO invariant for the line k_x=0 is -0.50000\n",
      "The LBO invariant for the line k_x=π is 0.00000\n"
     ]
    }
   ],
   "source": [
    "eps=0.0001\n",
    "num = 401\n",
    "ns = [0,1]\n",
    "\n",
    "t = 1\n",
    "t2 = t*(0.4)\n",
    "t3 = -t*(1.6)\n",
    "l = t*9\n",
    "var_list = [t, t2, t3, l]\n",
    "\n",
    "\n",
    "\n",
    "k_traj = np.zeros((num-1, 2))\n",
    "k_traj[:,0] = np.linspace(-np.pi+eps, np.pi+eps,num)[:-1] \n",
    "k_traj[:,1] = [np.pi*0]*(num-1)\n",
    "LBO_inv = berry_phase_Tr_line(k_traj, HamKMO_TR_1, var_list, ns)[0]\n",
    "print(f\"The LBO invariant for the line k_y=0 is {LBO_inv:.5f}\")\n",
    "\n",
    "\n",
    "\n",
    "k_traj = np.zeros((num-1, 2))\n",
    "k_traj[:,0] = np.linspace(-np.pi+eps, np.pi+eps,num)[:-1] \n",
    "k_traj[:,1] = [np.pi]*(num-1)\n",
    "LBO_inv = berry_phase_Tr_line(k_traj, HamKMO_TR_1, var_list, ns)[0]\n",
    "print(f\"The LBO invariant for the line k_y=\\u03C0 is {LBO_inv:.5f}\")\n",
    "\n",
    "\n",
    "\n",
    "k_traj = np.zeros((num-1, 2))\n",
    "k_traj[:,1] = np.linspace(-np.pi+eps, np.pi+eps,num)[:-1] \n",
    "k_traj[:,0] = [np.pi*0]*(num-1)\n",
    "LBO_inv = berry_phase_Tr_line(k_traj, HamKMO_TR_1, var_list, ns)[0]\n",
    "print(f\"The LBO invariant for the line k_x=0 is {LBO_inv:.5f}\")\n",
    "\n",
    "\n",
    "\n",
    "k_traj = np.zeros((num-1, 2))\n",
    "k_traj[:,1] = np.linspace(-np.pi+eps, np.pi+eps,num)[:-1] \n",
    "k_traj[:,0] = [np.pi]*(num-1)\n",
    "LBO_inv = berry_phase_Tr_line(k_traj, HamKMO_TR_1, var_list, ns)[0]\n",
    "print(f\"The LBO invariant for the line k_x=\\u03C0 is {LBO_inv:.5f}\")\n"
   ]
  },
  {
   "cell_type": "code",
   "execution_count": 53,
   "metadata": {
    "id": "7ah9WbRafvZQ"
   },
   "outputs": [],
   "source": [
    "def gap(Ham, var_vec, N):\n",
    "  kx_path = np.linspace(-np.pi, np.pi, N)\n",
    "  ky_path = np.linspace(-np.pi, np.pi, N)\n",
    "  H = Ham((0,0), var_vec)\n",
    "  n = H.shape[0]\n",
    "  evals = la.eigh(H)[0]\n",
    "  gap = np.abs(evals[n//2]- evals[n//2 -1])\n",
    "  for kx in kx_path:\n",
    "    for ky in ky_path:\n",
    "      evals = la.eigh(Ham((kx,ky), var_vec))[0]\n",
    "      gap_n = np.abs(evals[n//2]- evals[n//2 -1])\n",
    "      if gap_n < gap:\n",
    "        gap = gap_n\n",
    "  return gap"
   ]
  },
  {
   "cell_type": "code",
   "execution_count": 55,
   "metadata": {
    "colab": {
     "base_uri": "https://localhost:8080/",
     "height": 281
    },
    "executionInfo": {
     "elapsed": 830085,
     "status": "ok",
     "timestamp": 1598887679819,
     "user": {
      "displayName": "Mert Kurttutan (Student)",
      "photoUrl": "https://lh3.googleusercontent.com/a-/AOh14Gh_7Vfh5BJbW5If45rpVn4Qe37xSMQRIXNM-WEz=s64",
      "userId": "10419925026950499760"
     },
     "user_tz": -180
    },
    "id": "f3jkFzxofqM3",
    "outputId": "5711c953-4ff6-4aa4-bf69-87e2b3f30067"
   },
   "outputs": [
    {
     "data": {
      "image/png": "[encoded data removed]",
      "text/plain": [
       "<Figure size 1008x288 with 1 Axes>"
      ]
     },
     "metadata": {
      "needs_background": "light"
     },
     "output_type": "display_data"
    }
   ],
   "source": [
    "t = 1\n",
    "t2 = t*(0.4)\n",
    "t3 = -t*(1.6)\n",
    "l = t*0.15\n",
    "var_list = [t, t2, t3, l]\n",
    "\n",
    "N=100\n",
    "num = 100\n",
    "gap_list = []\n",
    "L_list = np.linspace(-1,1, num)\n",
    "for i in L_list:\n",
    "  l = i\n",
    "  var_list = [t, t2, t3, l]\n",
    "  gap_list.append(gap(HamKMO_TR_1, var_list, N))\n",
    "\n",
    "\n",
    "\n",
    "fig = plt.figure( figsize =(14,4))\n",
    "ax1 = fig.add_subplot(111)\n",
    "ax1.scatter(L_list, gap_list, c='blue', s=6, label='gap')\n",
    "plt.xlabel('$l$')\n",
    "plt.ylabel('Gap in units of t')\n",
    "plt.legend(loc='upper left');\n",
    "plt.grid(True)\n",
    "plt.show()\n"
   ]
  },
  {
   "cell_type": "code",
   "execution_count": 56,
   "metadata": {
    "colab": {
     "base_uri": "https://localhost:8080/",
     "height": 300
    },
    "executionInfo": {
     "elapsed": 839001,
     "status": "ok",
     "timestamp": 1598887688769,
     "user": {
      "displayName": "Mert Kurttutan (Student)",
      "photoUrl": "https://lh3.googleusercontent.com/a-/AOh14Gh_7Vfh5BJbW5If45rpVn4Qe37xSMQRIXNM-WEz=s64",
      "userId": "10419925026950499760"
     },
     "user_tz": -180
    },
    "id": "dJnGL1oQgGT3",
    "outputId": "9f0e7b5a-4c40-4ae2-f5bd-eab9c185ad6c"
   },
   "outputs": [
    {
     "data": {
      "image/png": "[encoded data removed]",
      "text/plain": [
       "<Figure size 576x288 with 2 Axes>"
      ]
     },
     "metadata": {
      "needs_background": "light"
     },
     "output_type": "display_data"
    }
   ],
   "source": [
    "eps = 0.001\n",
    "num = 100\n",
    "\n",
    "A=-13.68\n",
    "B=-16.9\n",
    "C=-0.0263 \n",
    "D=-0.514\n",
    "M=B*(16)\n",
    "delta=1.20*0\n",
    "\n",
    "\n",
    "var_list = [A,B,C,D, M, delta]\n",
    "\n",
    "k3list = np.linspace(0, np.pi,num)\n",
    "\n",
    "ns = [0,1]\n",
    "num2 = 200\n",
    "chern = []\n",
    "for ky in k3list:\n",
    "  k_traj = np.zeros((num2-1, 2))\n",
    "  k_traj[:,0] = np.linspace(-np.pi+eps, np.pi+eps,num2)[:-1] \n",
    "  k_traj[:,1] = [ky]*(num2-1)\n",
    "\n",
    "  a1, a2 = Z2_invariant(k_traj, HamBHZ, var_list, ns)\n",
    "  chern.append([(a1),(a2)])\n",
    "\n",
    "chern = np.array(chern)\n",
    "\n",
    "\n",
    "\n",
    "fig = plt.figure( figsize =(8,4))\n",
    "ax1 = fig.add_subplot(121)\n",
    "\n",
    "ax1.scatter(k3list, chern[:,0], c='blue', s=0.3)\n",
    "ax1.scatter(k3list, chern[:,1], c='blue', s=0.3)\n",
    "ax1.set_xlabel('momentum $k_y$')\n",
    "ax1.set_ylabel('Wilson loop in units of $2\\pi$')\n",
    "ax1.set_title('Wilson Loop Spectrum of BHZ Model')\n",
    "plt.grid(True)\n",
    "\n",
    "\n",
    "A=-14.48\n",
    "B=-18.0\n",
    "C=-0.018\n",
    "D=-0.594\n",
    "M=8.1*B\n",
    "delta=0\n",
    "\n",
    "\n",
    "var_list = [A,B,C,D, M, delta]\n",
    "\n",
    "\n",
    "chern = []\n",
    "for ky in k3list:\n",
    "  k_traj = np.zeros((num2-1, 2))\n",
    "  k_traj[:,0] = np.linspace(-np.pi+eps, np.pi+eps,num2)[:-1] \n",
    "  k_traj[:,1] = [ky]*(num2-1)\n",
    "\n",
    "  a1, a2 = Z2_invariant(k_traj, HamBHZ, var_list, ns)\n",
    "  chern.append([(a1),(a2)])\n",
    "\n",
    "\n",
    "chern = np.array(chern)\n",
    "\n",
    "ax2 = fig.add_subplot(122)\n",
    "\n",
    "ax2.scatter(k3list, chern[:,0], c='blue', s=0.3)\n",
    "ax2.scatter(k3list, chern[:,1], c='blue', s=0.3)\n",
    "ax2.set_xlabel('momentum $k_y$')\n",
    "\n",
    "ax2.set_title('Wilson Loop Spectrum of BHZ Model')\n",
    "\n",
    "plt.ylim(-0.5,0.5)\n",
    "plt.grid(True)\n",
    "plt.show()"
   ]
  },
  {
   "cell_type": "code",
   "execution_count": 58,
   "metadata": {
    "id": "fOyTAYs3aD1p"
   },
   "outputs": [],
   "source": [
    "def HamKMO_2(k_vec, var_vec):\n",
    "\n",
    "    E1 = var_vec[0] \n",
    "    E2 = var_vec[1] \n",
    "    t = var_vec[2] \n",
    "    t_2 = var_vec[3] \n",
    "    l = var_vec[4] \n",
    "    kx = k_vec[0]\n",
    "    ky = k_vec[1]\n",
    "\n",
    "    H = (-E1 * (np.cos(kx) + np.cos(ky))*(band.S0 + band.Sz)  \n",
    "             -E2 * (np.cos(kx) + np.cos(ky))*(band.S0 - band.Sz) \n",
    "             -2*t * (np.cos(kx) - np.cos(ky))*band.Sx \n",
    "             -t_2 * (np.sin(kx)* np.sin(ky))*band.Sx ) \n",
    "\n",
    "    return H"
   ]
  },
  {
   "cell_type": "code",
   "execution_count": 59,
   "metadata": {
    "colab": {
     "base_uri": "https://localhost:8080/",
     "height": 284
    },
    "executionInfo": {
     "elapsed": 847060,
     "status": "ok",
     "timestamp": 1598887696885,
     "user": {
      "displayName": "Mert Kurttutan (Student)",
      "photoUrl": "https://lh3.googleusercontent.com/a-/AOh14Gh_7Vfh5BJbW5If45rpVn4Qe37xSMQRIXNM-WEz=s64",
      "userId": "10419925026950499760"
     },
     "user_tz": -180
    },
    "id": "y4QAsWFxbHzF",
    "outputId": "e1fba4c5-ecc0-422b-c106-968670543cfa"
   },
   "outputs": [
    {
     "data": {
      "image/png": "[encoded data removed]",
      "text/plain": [
       "<Figure size 432x288 with 1 Axes>"
      ]
     },
     "metadata": {
      "needs_background": "light"
     },
     "output_type": "display_data"
    }
   ],
   "source": [
    "eps = 0.0001\n",
    "num = 100\n",
    "\n",
    "t = 1\n",
    "E1 = -t*(5)\n",
    "E2 = -t*(3.3)\n",
    "t_2 = t*1.8\n",
    "l = t*0.4\n",
    "\n",
    "klist = np.linspace(-np.pi, np.pi,num)\n",
    "ns = [0,1]\n",
    "\n",
    "var_list = [E1, E2, t, t_2, l]\n",
    "\n",
    "chern = []\n",
    "for ky in klist:\n",
    "  k_traj = np.zeros((num-1, 2))\n",
    "  k_traj[:,0] = np.linspace(-np.pi+eps, np.pi+eps,num)[:-1] \n",
    "  k_traj[:,1] = [ky]*(num-1)\n",
    "\n",
    "  a1, a2 = berry_phase_Tr_line(k_traj, HamKMO_2, var_list, ns)\n",
    "  chern.append([(a1),(a2)])\n",
    "\n",
    "\n",
    "chern = np.array(chern)\n",
    "\n",
    "fig = plt.figure()\n",
    "ax1 = fig.add_subplot(111)\n",
    "\n",
    "ax1.scatter(klist, chern[:,0], c='blue', s=0.3, label='first band')\n",
    "ax1.scatter(klist, chern[:,1], c='red', s=0.3, label='second band')\n",
    "ax1.set_xlabel('momentum $k_y$')\n",
    "ax1.set_ylabel('Wilson loop ')\n",
    "plt.legend(loc='upper left');\n",
    "plt.show()\n",
    "\n"
   ]
  },
  {
   "cell_type": "code",
   "execution_count": 60,
   "metadata": {
    "id": "LGpYb7tGIrmH"
   },
   "outputs": [],
   "source": [
    "def HamQWZ(k_vec, var_vec):\n",
    "\n",
    "    kx = k_vec[0]\n",
    "    ky = k_vec[1]\n",
    "    m = var_vec[0]\n",
    "    a = np.pi/2\n",
    "    H = np.cos(kx)*band.Sx  + np.cos(ky)*band.Sy + (m - np.sin(kx) - np.sin(ky) )* (m + np.sin(kx) + np.sin(ky))*band.Sz\n",
    "\n",
    "    return H"
   ]
  },
  {
   "cell_type": "code",
   "execution_count": 61,
   "metadata": {
    "colab": {
     "base_uri": "https://localhost:8080/",
     "height": 295
    },
    "executionInfo": {
     "elapsed": 858637,
     "status": "ok",
     "timestamp": 1598887708520,
     "user": {
      "displayName": "Mert Kurttutan (Student)",
      "photoUrl": "https://lh3.googleusercontent.com/a-/AOh14Gh_7Vfh5BJbW5If45rpVn4Qe37xSMQRIXNM-WEz=s64",
      "userId": "10419925026950499760"
     },
     "user_tz": -180
    },
    "id": "pzabOYpxLlBv",
    "outputId": "271cd0de-1ac6-4bc4-c479-45df4ae9b4b8"
   },
   "outputs": [
    {
     "data": {
      "image/png": "[encoded data removed]",
      "text/plain": [
       "<Figure size 1080x288 with 3 Axes>"
      ]
     },
     "metadata": {
      "needs_background": "light"
     },
     "output_type": "display_data"
    }
   ],
   "source": [
    "eps = 0.0001\n",
    "num = 100\n",
    "\n",
    "m_list=[[-4.02], [-2.31], [-1.8]]\n",
    "\n",
    "klist = np.linspace(-np.pi, np.pi,num)\n",
    "\n",
    "ns = [0,1]\n",
    "\n",
    "\n",
    "chern1 = []\n",
    "chern2 = []\n",
    "chern3 = []\n",
    "chern_list = [chern1, chern2, chern3]\n",
    "\n",
    "\n",
    "\n",
    "\n",
    "for r in range(3):\n",
    "  for ky in klist:\n",
    "    k_traj = np.zeros((num-1, 2))\n",
    "    k_traj[:,0] = np.linspace(-np.pi+eps, np.pi+eps,num)[:-1] \n",
    "    k_traj[:,1] = [ky]*(num-1)\n",
    "    a1, a2 = berry_phase_Tr_line(k_traj, HamQWZ, m_list[r], ns)\n",
    "    chern_list[r].append([a1,a2])\n",
    "\n",
    "  chern_list[r] = np.array(chern_list[r])\n",
    "\n",
    "\n",
    "fig = plt.figure( figsize =(15,4))\n",
    "\n",
    "ax1 = fig.add_subplot(131)\n",
    "ax1.scatter(klist, chern_list[0][:,0], c='blue', s=0.3, label='$m=-1$')\n",
    "ax1.set_xlabel('momentum $k_y$')\n",
    "ax1.set_ylabel('Wilson loop ')\n",
    "\n",
    "plt.legend(loc='upper left');\n",
    "\n",
    "ax2 = fig.add_subplot(132)\n",
    "ax2.scatter(klist, chern_list[1][:,0], c='blue', s=0.3, label='$m=1$')\n",
    "ax2.set_xlabel('momentum $k_y$')\n",
    "\n",
    "\n",
    "\n",
    "plt.legend(loc='upper left');\n",
    "\n",
    "ax3 = fig.add_subplot(133)\n",
    "ax3.scatter(klist, chern_list[2][:,0], c='blue', s=0.3, label='$m=5$')\n",
    "ax3.set_xlabel('momentum $k_y$')\n",
    "\n",
    "\n",
    "plt.legend(loc='upper left');\n",
    "plt.ylim(-0.5,0.5)\n",
    "plt.show()\n"
   ]
  },
  {
   "cell_type": "code",
   "execution_count": 62,
   "metadata": {
    "id": "WbARjglnMLHg"
   },
   "outputs": [],
   "source": [
    "def HamQWZ_TR(k_vec, var_vec):\n",
    "    kx = k_vec[0]\n",
    "    ky = k_vec[1]\n",
    "    m = var_vec[0]\n",
    "    v = var_vec[1]\n",
    "    a = np.pi/2\n",
    "    H = np.cos(kx)*band.Sx0  + np.cos(ky)*band.Syz + (m - np.sin(kx) - np.sin(ky) )* (m + np.sin(kx) + np.sin(ky))*band.Sz0\n",
    "    H_int = 0.0*np.sin(kx)*band.Szx\n",
    "    ky = ky*2\n",
    "    H1 = np.cos(kx)*band.Sx0  + np.cos(ky)*band.Syz + (m - np.sin(kx) - np.sin(ky) )* (m + np.sin(kx) + np.sin(ky))*band.Sz0\n",
    "    H_int1 = 0.1*np.sin(kx + ky)*band.Szx\n",
    "    return (1-v)*(H + H_int) + v*(H1 + H_int1)"
   ]
  },
  {
   "cell_type": "code",
   "execution_count": 63,
   "metadata": {
    "colab": {
     "base_uri": "https://localhost:8080/",
     "height": 408
    },
    "executionInfo": {
     "elapsed": 876500,
     "status": "ok",
     "timestamp": 1598887726473,
     "user": {
      "displayName": "Mert Kurttutan (Student)",
      "photoUrl": "https://lh3.googleusercontent.com/a-/AOh14Gh_7Vfh5BJbW5If45rpVn4Qe37xSMQRIXNM-WEz=s64",
      "userId": "10419925026950499760"
     },
     "user_tz": -180
    },
    "id": "Gy36ybwTNPeh",
    "outputId": "6fa13735-448f-406c-9fb9-7ab1b4c78ae7"
   },
   "outputs": [
    {
     "data": {
      "image/png": "[encoded data removed]",
      "text/plain": [
       "<Figure size 360x432 with 1 Axes>"
      ]
     },
     "metadata": {
      "needs_background": "light"
     },
     "output_type": "display_data"
    }
   ],
   "source": [
    "eps = 0.0001\n",
    "num1 = 120\n",
    "num2 = 1000\n",
    "klist = np.linspace(-np.pi, np.pi,num2)\n",
    "\n",
    "m = -1\n",
    "v=0.51\n",
    "var_list = [m, v]\n",
    "ns = [0,1]\n",
    "\n",
    "chern = []\n",
    "for kx in klist:\n",
    "  k_traj = np.zeros((num1-1, 2))\n",
    "  k_traj[:,0] = np.linspace(-np.pi+eps, np.pi+eps,num1)[:-1] \n",
    "  k_traj[:,1] = [kx]*(num1-1)\n",
    "\n",
    "  a1, a2 = Z2_invariant(k_traj, HamQWZ_TR, var_list, ns)\n",
    "  chern.append([(a1),(a2)])\n",
    "\n",
    "chern = np.array(chern)\n",
    "\n",
    "fig = plt.figure(figsize =(5,6))\n",
    "ax1 = fig.add_subplot(111)\n",
    "\n",
    "ax1.scatter(klist, chern[:,0], c='blue', s=0.4)\n",
    "ax1.scatter(klist, chern[:,1], c='blue', s=0.4)\n",
    "ax1.set_xlabel('momentum $k_x$')\n",
    "ax1.set_ylabel('Wilson loop in units of $2\\pi$')\n",
    "ax1.set_title('Wilson Loop Spectrum of KMO Model')\n",
    "plt.show()"
   ]
  },
  {
   "cell_type": "code",
   "execution_count": 65,
   "metadata": {
    "colab": {
     "base_uri": "https://localhost:8080/",
     "height": 35
    },
    "executionInfo": {
     "elapsed": 681,
     "status": "ok",
     "timestamp": 1598893388077,
     "user": {
      "displayName": "Mert Kurttutan (Student)",
      "photoUrl": "https://lh3.googleusercontent.com/a-/AOh14Gh_7Vfh5BJbW5If45rpVn4Qe37xSMQRIXNM-WEz=s64",
      "userId": "10419925026950499760"
     },
     "user_tz": -180
    },
    "id": "WZ6_M2QCQfAX",
    "outputId": "ca438094-16d8-4c24-9365-49a9e03657c1"
   },
   "outputs": [
    {
     "name": "stdout",
     "output_type": "stream",
     "text": [
      "0.0365135396396684\n"
     ]
    }
   ],
   "source": [
    "m = -1\n",
    "v = 0.51\n",
    "var_list = [m, v]\n",
    "N = 100\n",
    "print(gap(HamQWZ_TR, var_list, N))"
   ]
  },
  {
   "cell_type": "code",
   "execution_count": 67,
   "metadata": {
    "colab": {
     "base_uri": "https://localhost:8080/",
     "height": 282
    },
    "executionInfo": {
     "elapsed": 1765115,
     "status": "ok",
     "timestamp": 1598895153121,
     "user": {
      "displayName": "Mert Kurttutan (Student)",
      "photoUrl": "https://lh3.googleusercontent.com/a-/AOh14Gh_7Vfh5BJbW5If45rpVn4Qe37xSMQRIXNM-WEz=s64",
      "userId": "10419925026950499760"
     },
     "user_tz": -180
    },
    "id": "nLYKCrER2oDf",
    "outputId": "df92f1fa-005b-4f35-e730-eeedc7d1217a"
   },
   "outputs": [
    {
     "data": {
      "image/png": "[encoded data removed]",
      "text/plain": [
       "<Figure size 1008x288 with 1 Axes>"
      ]
     },
     "metadata": {
      "needs_background": "light"
     },
     "output_type": "display_data"
    }
   ],
   "source": [
    "m = -1\n",
    "v=0.95\n",
    "var_list = [m, v]\n",
    "\n",
    "N=200\n",
    "num = 32\n",
    "gap_list = []\n",
    "L_list = np.linspace(0.475,0.525, num)\n",
    "for i in L_list:\n",
    "  v = i\n",
    "  var_list = [m, v]\n",
    "  gap_list.append(gap(HamQWZ_TR, var_list, N))\n",
    "\n",
    "\n",
    "\n",
    "fig = plt.figure( figsize =(14,4))\n",
    "ax1 = fig.add_subplot(111)\n",
    "ax1.scatter(L_list, gap_list, c='blue', s=6, label='gap')\n",
    "plt.xlabel('$l$')\n",
    "plt.ylabel('Gap in units of t')\n",
    "plt.legend(loc='upper left');\n",
    "plt.grid(True)\n",
    "plt.show()\n"
   ]
  },
  {
   "cell_type": "code",
   "execution_count": 68,
   "metadata": {
    "id": "WPy_CfL_V0se"
   },
   "outputs": [],
   "source": [
    "def HamQWZ_TR(k_vec, var_vec):\n",
    "\n",
    "    kx = k_vec[0]\n",
    "    ky = k_vec[1]\n",
    "    m = var_vec[0]\n",
    "    H = np.cos(kx)*band.Sx0  + np.cos(ky)*band.Syz + (m - np.sin(kx) - np.sin(ky) )* (m + np.sin(kx) + np.sin(ky))*band.Sz0\n",
    "\n",
    "    return H"
   ]
  },
  {
   "cell_type": "code",
   "execution_count": 69,
   "metadata": {
    "id": "XXs3vPKuIdyu"
   },
   "outputs": [],
   "source": [
    "def HamQWZ_TR2(k_vec, var_vec):\n",
    "\n",
    "    kx = k_vec[0]\n",
    "    ky = k_vec[1]\n",
    "    t = var_vec[1]\n",
    "    t2 = var_vec[2]\n",
    "    H = t*np.kron(band.S0, HamQWZ_TR(k_vec, var_vec[:1]))\n",
    "    H_mix = t2*np.kron(band.Sx, HamQWZ_TR(k_vec, var_vec[-1:]))\n",
    "\n",
    "    return H + H_mix"
   ]
  },
  {
   "cell_type": "code",
   "execution_count": 70,
   "metadata": {
    "colab": {
     "base_uri": "https://localhost:8080/",
     "height": 408
    },
    "executionInfo": {
     "elapsed": 39752,
     "status": "ok",
     "timestamp": 1598895192865,
     "user": {
      "displayName": "Mert Kurttutan (Student)",
      "photoUrl": "https://lh3.googleusercontent.com/a-/AOh14Gh_7Vfh5BJbW5If45rpVn4Qe37xSMQRIXNM-WEz=s64",
      "userId": "10419925026950499760"
     },
     "user_tz": -180
    },
    "id": "kRZpunzlKZsr",
    "outputId": "76168b2f-8313-4346-fd25-ff200364fdb4"
   },
   "outputs": [
    {
     "data": {
      "image/png": "[encoded data removed]",
      "text/plain": [
       "<Figure size 360x432 with 1 Axes>"
      ]
     },
     "metadata": {
      "needs_background": "light"
     },
     "output_type": "display_data"
    }
   ],
   "source": [
    "eps = 0.0001\n",
    "num1 = 120\n",
    "num2 = 1200\n",
    "\n",
    "klist = np.linspace(-np.pi, np.pi,num2)\n",
    "\n",
    "\n",
    "m = -1.0\n",
    "t = -2.9\n",
    "t2 = -2.4\n",
    "m2 = -1.0\n",
    "\n",
    "var_list = [m, t, t2, m2]\n",
    "ns = [0,1,2,3]\n",
    "\n",
    "chern = []\n",
    "for kx in klist:\n",
    "  k_traj = np.zeros((num1-1, 2))\n",
    "  k_traj[:,1] = np.linspace(-np.pi+eps, np.pi+eps,num1)[:-1] \n",
    "  k_traj[:,0] = [kx]*(num1-1)\n",
    "\n",
    "  a = Z2_invariant(k_traj, HamQWZ_TR2, var_list, ns)\n",
    "  chern.append(a)\n",
    "\n",
    "\n",
    "chern = np.array(chern)\n",
    "\n",
    "\n",
    "fig = plt.figure(figsize =(5,6))\n",
    "ax1 = fig.add_subplot(111)\n",
    "\n",
    "ax1.scatter(klist, chern[:,0], c='blue', s=0.4)\n",
    "ax1.scatter(klist, chern[:,1], c='blue', s=0.4)\n",
    "ax1.scatter(klist, chern[:,2], c='blue', s=0.4)\n",
    "ax1.scatter(klist, chern[:,3], c='blue', s=0.4)\n",
    "ax1.set_xlabel('momentum $k_x$')\n",
    "ax1.set_ylabel('Wilson loop in units of $2\\pi$')\n",
    "ax1.set_title('Wilson Loop Spectrum of KMO Model')\n",
    "\n",
    "plt.show()\n",
    "\n"
   ]
  },
  {
   "cell_type": "code",
   "execution_count": null,
   "metadata": {},
   "outputs": [],
   "source": []
  }
 ],
 "metadata": {
  "colab": {
   "authorship_tag": "ABX9TyNsMI2DJArCZKmavN0Cn/DF",
   "collapsed_sections": [],
   "name": "TopologyCrystallineTIs1.ipynb",
   "provenance": []
  },
  "kernelspec": {
   "display_name": "Python 3 (ipykernel)",
   "language": "python",
   "name": "python3"
  },
  "language_info": {
   "codemirror_mode": {
    "name": "ipython",
    "version": 3
   },
   "file_extension": ".py",
   "mimetype": "text/x-python",
   "name": "python",
   "nbconvert_exporter": "python",
   "pygments_lexer": "ipython3",
   "version": "3.9.7"
  }
 },
 "nbformat": 4,
 "nbformat_minor": 4
}
